{
 "cells": [
  {
   "cell_type": "markdown",
   "metadata": {},
   "source": [
    "### Python module/package imports for this chapter"
   ]
  },
  {
   "cell_type": "code",
   "execution_count": 1,
   "metadata": {
    "collapsed": true
   },
   "outputs": [],
   "source": [
    "import sys, os, math, random, functools\n",
    "\n",
    "import numpy as np\n",
    "\n",
    "import matplotlib\n",
    "import matplotlib.pyplot as pp\n",
    "import matplotlib.animation as anim\n",
    "\n",
    "%matplotlib inline\n",
    "\n",
    "from IPython.display import display, HTML"
   ]
  },
  {
   "cell_type": "markdown",
   "metadata": {
    "collapsed": true
   },
   "source": [
    "### Code from previous videos (enhanced)"
   ]
  },
  {
   "cell_type": "code",
   "execution_count": 2,
   "metadata": {
    "collapsed": true
   },
   "outputs": [],
   "source": [
    "from turtle import Turtle, Terrarium"
   ]
  },
  {
   "cell_type": "markdown",
   "metadata": {},
   "source": [
    "## Exploiting class inheritance in Python"
   ]
  },
  {
   "cell_type": "code",
   "execution_count": 3,
   "metadata": {
    "collapsed": true
   },
   "outputs": [],
   "source": [
    "def polyspi(t,side,angle):\n",
    "    if side:\n",
    "        t.forward(side)\n",
    "        t.right(angle)\n",
    "        polyspi(t,side-2,angle)"
   ]
  },
  {
   "cell_type": "code",
   "execution_count": 4,
   "metadata": {
    "collapsed": false
   },
   "outputs": [
    {
     "ename": "RuntimeError",
     "evalue": "No MovieWriters available!",
     "output_type": "error",
     "traceback": [
      "\u001b[0;31m---------------------------------------------------------------------------\u001b[0m",
      "\u001b[0;31mRuntimeError\u001b[0m                              Traceback (most recent call last)",
      "\u001b[0;32m<ipython-input-4-3bf7d0424988>\u001b[0m in \u001b[0;36m<module>\u001b[0;34m()\u001b[0m\n\u001b[1;32m      3\u001b[0m \u001b[1;33m\u001b[0m\u001b[0m\n\u001b[1;32m      4\u001b[0m     \u001b[0mt1\u001b[0m\u001b[1;33m.\u001b[0m\u001b[0mpoint\u001b[0m\u001b[1;33m(\u001b[0m\u001b[1;36m1\u001b[0m\u001b[1;33m)\u001b[0m\u001b[1;33m\u001b[0m\u001b[0m\n\u001b[0;32m----> 5\u001b[0;31m     \u001b[0mpolyspi\u001b[0m\u001b[1;33m(\u001b[0m\u001b[0mt1\u001b[0m\u001b[1;33m,\u001b[0m\u001b[1;36m100\u001b[0m\u001b[1;33m,\u001b[0m\u001b[1;36m119\u001b[0m\u001b[1;33m)\u001b[0m\u001b[1;33m\u001b[0m\u001b[0m\n\u001b[0m",
      "\u001b[0;32mC:\\Users\\Artur_Zahreba\\Desktop\\ML\\Python\\Python Programming Efficiently\\Ex_Files_Python_Efficiently\\Exercise Files\\chapter4\\04_03\\turtle.py\u001b[0m in \u001b[0;36m__exit__\u001b[0;34m(self, *args)\u001b[0m\n\u001b[1;32m    124\u001b[0m         \u001b[1;32mif\u001b[0m \u001b[0misinstance\u001b[0m\u001b[1;33m(\u001b[0m\u001b[0mself\u001b[0m\u001b[1;33m.\u001b[0m\u001b[0maxes\u001b[0m\u001b[1;33m,\u001b[0m\u001b[0manimaxes\u001b[0m\u001b[1;33m)\u001b[0m\u001b[1;33m:\u001b[0m\u001b[1;33m\u001b[0m\u001b[0m\n\u001b[1;32m    125\u001b[0m             \u001b[0manim\u001b[0m \u001b[1;33m=\u001b[0m \u001b[0mself\u001b[0m\u001b[1;33m.\u001b[0m\u001b[0maxes\u001b[0m\u001b[1;33m.\u001b[0m\u001b[0manimation\u001b[0m\u001b[1;33m(\u001b[0m\u001b[1;33m)\u001b[0m\u001b[1;33m\u001b[0m\u001b[0m\n\u001b[0;32m--> 126\u001b[0;31m             \u001b[0mdisplay\u001b[0m\u001b[1;33m(\u001b[0m\u001b[0mHTML\u001b[0m\u001b[1;33m(\u001b[0m\u001b[0manim\u001b[0m\u001b[1;33m.\u001b[0m\u001b[0mto_html5_video\u001b[0m\u001b[1;33m(\u001b[0m\u001b[1;33m)\u001b[0m\u001b[1;33m)\u001b[0m\u001b[1;33m)\u001b[0m\u001b[1;33m\u001b[0m\u001b[0m\n\u001b[0m\u001b[1;32m    127\u001b[0m             \u001b[0mpp\u001b[0m\u001b[1;33m.\u001b[0m\u001b[0mclose\u001b[0m\u001b[1;33m(\u001b[0m\u001b[1;33m)\u001b[0m\u001b[1;33m\u001b[0m\u001b[0m\n",
      "\u001b[0;32mC:\\Users\\Artur_Zahreba\\AppData\\Local\\Continuum\\Anaconda3\\lib\\site-packages\\matplotlib\\animation.py\u001b[0m in \u001b[0;36mto_html5_video\u001b[0;34m(self)\u001b[0m\n\u001b[1;32m   1153\u001b[0m                 \u001b[1;31m# We create a writer manually so that we can get the\u001b[0m\u001b[1;33m\u001b[0m\u001b[1;33m\u001b[0m\u001b[0m\n\u001b[1;32m   1154\u001b[0m                 \u001b[1;31m# appropriate size for the tag\u001b[0m\u001b[1;33m\u001b[0m\u001b[1;33m\u001b[0m\u001b[0m\n\u001b[0;32m-> 1155\u001b[0;31m                 \u001b[0mWriter\u001b[0m \u001b[1;33m=\u001b[0m \u001b[0mwriters\u001b[0m\u001b[1;33m[\u001b[0m\u001b[0mrcParams\u001b[0m\u001b[1;33m[\u001b[0m\u001b[1;34m'animation.writer'\u001b[0m\u001b[1;33m]\u001b[0m\u001b[1;33m]\u001b[0m\u001b[1;33m\u001b[0m\u001b[0m\n\u001b[0m\u001b[1;32m   1156\u001b[0m                 writer = Writer(codec='h264',\n\u001b[1;32m   1157\u001b[0m                                 \u001b[0mbitrate\u001b[0m\u001b[1;33m=\u001b[0m\u001b[0mrcParams\u001b[0m\u001b[1;33m[\u001b[0m\u001b[1;34m'animation.bitrate'\u001b[0m\u001b[1;33m]\u001b[0m\u001b[1;33m,\u001b[0m\u001b[1;33m\u001b[0m\u001b[0m\n",
      "\u001b[0;32mC:\\Users\\Artur_Zahreba\\AppData\\Local\\Continuum\\Anaconda3\\lib\\site-packages\\matplotlib\\animation.py\u001b[0m in \u001b[0;36m__getitem__\u001b[0;34m(self, name)\u001b[0m\n\u001b[1;32m    127\u001b[0m         \u001b[0mself\u001b[0m\u001b[1;33m.\u001b[0m\u001b[0mensure_not_dirty\u001b[0m\u001b[1;33m(\u001b[0m\u001b[1;33m)\u001b[0m\u001b[1;33m\u001b[0m\u001b[0m\n\u001b[1;32m    128\u001b[0m         \u001b[1;32mif\u001b[0m \u001b[1;32mnot\u001b[0m \u001b[0mself\u001b[0m\u001b[1;33m.\u001b[0m\u001b[0mavail\u001b[0m\u001b[1;33m:\u001b[0m\u001b[1;33m\u001b[0m\u001b[0m\n\u001b[0;32m--> 129\u001b[0;31m             \u001b[1;32mraise\u001b[0m \u001b[0mRuntimeError\u001b[0m\u001b[1;33m(\u001b[0m\u001b[1;34m\"No MovieWriters available!\"\u001b[0m\u001b[1;33m)\u001b[0m\u001b[1;33m\u001b[0m\u001b[0m\n\u001b[0m\u001b[1;32m    130\u001b[0m         \u001b[1;32mreturn\u001b[0m \u001b[0mself\u001b[0m\u001b[1;33m.\u001b[0m\u001b[0mavail\u001b[0m\u001b[1;33m[\u001b[0m\u001b[0mname\u001b[0m\u001b[1;33m]\u001b[0m\u001b[1;33m\u001b[0m\u001b[0m\n\u001b[1;32m    131\u001b[0m \u001b[1;33m\u001b[0m\u001b[0m\n",
      "\u001b[0;31mRuntimeError\u001b[0m: No MovieWriters available!"
     ]
    },
    {
     "data": {
      "image/png": "[encoded data removed]",
      "text/plain": [
       "<matplotlib.figure.Figure at 0x2306830e630>"
      ]
     },
     "metadata": {},
     "output_type": "display_data"
    }
   ],
   "source": [
    "with Terrarium(animate=True) as t:\n",
    "    t1 = Turtle(t,'coral')\n",
    "\n",
    "    t1.point(1)\n",
    "    polyspi(t1,100,119)"
   ]
  },
  {
   "cell_type": "code",
   "execution_count": 5,
   "metadata": {
    "collapsed": false
   },
   "outputs": [
    {
     "data": {
      "text/html": [
       "<video width=\"500.0\" height=\"500.0\" controls autoplay>\n",
       "  <source type=\"video/mp4\" src=\"data:video/mp4;base64,AAAAHGZ0eXBNNFYgAAACAGlzb21pc28yYXZjMQAAAAhmcmVlAABEj21kYXQAAAKhBgX//53cRem9\n",
       "5tlIt5Ys2CDZI+7veDI2NCAtIGNvcmUgMTQ4IC0gSC4yNjQvTVBFRy00IEFWQyBjb2RlYyAtIENv\n",
       "cHlsZWZ0IDIwMDMtMjAxNiAtIGh0dHA6Ly93d3cudmlkZW9sYW4ub3JnL3gyNjQuaHRtbCAtIG9w\n",
       "dGlvbnM6IGNhYmFjPTEgcmVmPTMgZGVibG9jaz0xOjA6MCBhbmFseXNlPTB4MzoweDExMyBtZT1o\n",
       "ZXggc3VibWU9NyBwc3k9MSBwc3lfcmQ9MS4wMDowLjAwIG1peGVkX3JlZj0xIG1lX3JhbmdlPTE2\n",
       "IGNocm9tYV9tZT0xIHRyZWxsaXM9MSA4eDhkY3Q9MSBjcW09MCBkZWFkem9uZT0yMSwxMSBmYXN0\n",
       "X3Bza2lwPTEgY2hyb21hX3FwX29mZnNldD0tMiB0aHJlYWRzPTE2IGxvb2thaGVhZF90aHJlYWRz\n",
       "PTIgc2xpY2VkX3RocmVhZHM9MCBucj0wIGRlY2ltYXRlPTEgaW50ZXJsYWNlZD0wIGJsdXJheV9j\n",
       "b21wYXQ9MCBjb25zdHJhaW5lZF9pbnRyYT0wIGJmcmFtZXM9MyBiX3B5cmFtaWQ9MiBiX2FkYXB0\n",
       "PTEgYl9iaWFzPTAgZGlyZWN0PTEgd2VpZ2h0Yj0xIG9wZW5fZ29wPTAgd2VpZ2h0cD0yIGtleWlu\n",
       "dD0yNTAga2V5aW50X21pbj0xNSBzY2VuZWN1dD00MCBpbnRyYV9yZWZyZXNoPTAgcmNfbG9va2Fo\n",
       "ZWFkPTQwIHJjPWNyZiBtYnRyZWU9MSBjcmY9MjMuMCBxY29tcD0wLjYwIHFwbWluPTAgcXBtYXg9\n",
       "NjkgcXBzdGVwPTQgaXBfcmF0aW89MS40MCBhcT0xOjEuMDAAgAAAAWFliIQAP//+92ifAptaQ3qA\n",
       "5JXFJdtPgf+rZ3B8j+kDAAADAAADACQC/Me/oQdDNCAAAE9ABGvM7H7Zv8BFTllg/Gf/h9JDJxtN\n",
       "nvfwZ1e2x2s0kA6E/rccOLbgKgco4iXULLvGqMQnE61PiM5eFvMZi+OJS0gsnMuMcRRAKcH0kxG/\n",
       "Wu+ruImyf+jR0RgbMb9sSJNv7wU0rdo+qoTSpV3HH+So7Vz93AcHsVZD/9LSFf4TE2n1RwCOTBd4\n",
       "OBCs8+jr7rYTFrUju7AVJlHs5z04yniBqdYhsLLhJ9sqOQwotjWIx/K8JcQ4iHPIAEMQ0lFj1WYJ\n",
       "87pYPubpipLWwCUOUB/3vxX8hIDMNpuaYZzrs+n/w9cmeTtp7UIbjmJWKuAsD4AAAAMAAAMAACX1\n",
       "gAAAAwAAFlR3HfJ4UwPb371RVoVRNoeiJWMYHOxSk5DtC5L0c2PWEGyAU3YAAAMAAAMBCQAABKRB\n",
       "miJsQ//+qZYARBcoIAsFqpj0IyGl6vJWbO34BvSv/AoHLU5dXmsOSEkpYkO3FyO+SgeUoRIYNEkv\n",
       "KlvdoVf/DiKCQlbSbCM9OwLLg9nHm1y93vHeNLGl/eshT5J0REvzqFSdcSOVmo4CreIHod8bnZwH\n",
       "T9yVJYQDk1uHbijauBiyu0ZYu8/eGHddx7NkRBgskajOkkKvUF+TSNJoViLehWTQgI1L6noB/3lL\n",
       "bKK+pDMS+qg0JbMVKgEc8eqkfumrixc9gcm2oeWkf/JWFt75CAvIBLHn0CmvvQ7JzXh4XsoYFrYk\n",
       "V4NNanOagEYBJzdKAxqLrQTIprPg7O7E0XdjVk+tqmz/7y42ydU32CmLrok7utUn46WI9FSuZg3i\n",
       "QafzIvbcIANWXD+gGKDLrP4DcwQdh05lZsIZwqQXGlAkumcGS0Z74niwRvLuh+wzzX4lhhy0wBZR\n",
       "egfgXDikiVk7HntCNuN1GY3ZEdhdfVpeZXFhsjDy4P6jLh8aVg5PDblXFbEaNTkglxNLJHNiQCKN\n",
       "8Hd51UZl7Jm2d5T6aLNMZFTKYDNQl2C+SrN8GzmAbSvdtSHajCFswcMxdVe/hZE9jbNx2nuBvhFm\n",
       "RNzaB9pEJLoMAXU8R9ryFNAUDBC8bujTQl9Ufu13cnGPpM8mnPA31aiSCU/Ru9oVc+J2AYK02Ggl\n",
       "wJtgA/1/KCgc4MbD6FEH3WdqhUZfsgxyYP2i09CjQGPPOebQ5hrKd+/fsVWjNZW0UGexugeZXR3B\n",
       "BDSIMGoI3qUSlGli393UaCdkfjGT9O/Jao5gKOZW5LApih8YzzZyBBLIlw6drtooe0iV5cB76B1+\n",
       "ExUNefUwyktA7ym/dBAcNx7pFH4FmpsHssfG0JW5LpZUN5C44UeaLzvqO6teh/TlxAxxir6bgUiO\n",
       "g/xbjDM9CRzRoV2oWv7NGGYGhZo504Qw2ypqcBu28heDKRpbNbmhUjdl/Bsps4ZDqGZq4wKGiilT\n",
       "APrkjRTfL+omyO2toK5lYolwRAX2xio1RnfnazpK9UkY+RwcAI1SWgL+62+aBrhZmQt1NBdiB1ke\n",
       "0wSKjWNie+ifnwmHimoxJmxOjJWYgl6dkYfq1wQbeB047jJWrOJVwEzaDEdlRB/FGJbAhe0Im5eA\n",
       "FbYmCOAqf//gb0MGNQK3ZEwVEFr2X9nSYoNchMZ/Tl4YTgjUn007q+uglhxEsrP3/WpsSe8nY3gI\n",
       "PPhqDlZ5GrQwpiArzKteTNTB9eREVxno77kS80J5YRjeBYDLbZ+H7YFBXyJf4gMxELwJ8MxAPR1r\n",
       "8pi6eXI7nL98Jgmqwuqp3gfZ3dIFx3H31ixG10Bq7RmgYZutuOgskJ6C7PactTQpi0O9EE+8Z7Yj\n",
       "6a9T14cbwMOwqPav6BqCqmDM+UTxzY68yliOEqYuVx1uH9UgeWgWp6G3wTBbvbCXfZnBxy9jCIA+\n",
       "XG2bXJ2ymrnyIDA0AiQh1SCxROJg5GNStVBQnmqRXpyKRgKuyb77XrNOJAKoQ2n0w+87vVj1HcV0\n",
       "sPwv2sqtmwZhUHdYYrJtKgGspD+IJn+fKWR9htjRRV3x1d5ZlXN1ybCVpCeAAfMAAAA4AZ5BeQv/\n",
       "AFHYNJiWwlEWwxN0mQATt6MZ6VLP7+Fi7VPY15s1pXjZu7hvzsnufah13mIrM0QAEfEAAAvEQZpF\n",
       "PCGTKYQ///6plgAAwHCS6AJzs3sh5HrsLJ3Da6TFfBjaVXWr/wlKrvfR6llp9jCDU7BMyJdO3Cxy\n",
       "hboeWzz/9t6e13MufuWGSgf03PhL6nqK1B10UsoNUB85v0LO8P2lHo1yp2vvlyLr7u/csziqBAYv\n",
       "vX73KwiXgDb+CV/ovi9IRLyUjWq42w7lqyjHX9djNKLKG3/GhQgv5JfvZvobgx2eFP3tbZQ8FoS3\n",
       "1hq4KJolyjs65qO9VsmuEisNILU40v652EQrID2kROzL4B4pkUt4iRS48BMJdD9oPUBJ/FKd5jdN\n",
       "8AtSPnoD7SLb0fQpCvTCSlw3f5zQk9BjNSh5FTwUJOoXullqntd21xL02smfS5bXmBw77/epw5k9\n",
       "3L8S7RsvsP1eKrjkkSp5Ypos0LOo8tYdXEoV+JhlsXcXBRxXTWS+bdFiiwwG9H0WyVvadDw6yeIq\n",
       "e3gPEsCDm0BbObj+qIO7IjrRjp+RSaq40q5TGqHgo4xQg3/7d8SOOMdXRJxhnc+oHgaORkUNyodi\n",
       "WgbBka1sh0DJ5E+TUbDUUNDqR4CUFh06ZPwkB6OHGZgsF44gQXHhkXjPZBt7LozbGYxb1GERTQ3D\n",
       "XU9BOoSSpFMvgQDQPFMNWQQDQQ3ZlbRYqtWcYOSVztFa3Mb944TCtcc3sUnVSnW+4Q/GP8BV/jUh\n",
       "fwMSHv1Bn0AVsC+fhjJAwfsqxM842mbSLFXajvIql06pMft1WQ8ho17z7SygFoPUigADBDvTYCQu\n",
       "JxmBFa5V/ALVjh5E7UtHS1mMtyt4c/ApHS3JS76GPhhVm9QXP0w2O/CNFVa1W4SH4ZqQXHvvK9y0\n",
       "i0CKRe9pwcgaxJ3XcyrjMIzFvrH977xnU71KDK2ByGkhv7IqsxMKmYJ7NfUxt+uxh6FeCYETqmvG\n",
       "cecnjgmSWoqDBOAiQ1cvGqHMLV0K2DJZIVSt3URQJ+Bh96bmV/8cwfspenRyAPtMZu2rbn6yMPY7\n",
       "lPZJbAIDf8u807MCINoYRRQxdJhv4bvkyLINfJ+Axf9CFs5mZ5uu6igyHobPNg6ZWStsOf+1VsPv\n",
       "RO4/M/0ivN1wQWornIOYTjSQC8QcN8jMtUHDx/biuCMCG7bCox+C1fJfNAHcLgXTQAP/8IIW1ab2\n",
       "BSWZgnaBdUuZVJFtsYXWe4TI0sYQ3VaevFfn0ydWjHynFk1NIfAdB4FLm/Eiks64y9ylRFN4htQy\n",
       "w2GDCw7d1lv/J6K9foF2EiO2ihLvu4n63Zb/vMhHcOoPciaq+RhoVtO6CM4mL2sfv9iAvlB0xFTl\n",
       "p96CWISMam7s5e5Kkshzqwd8idY5uYP0YOKi6BJZYibVdrLB2J4Bg7lXg2utDvyYEAAVb9zjxfg2\n",
       "7BqmMfh4I5Bd3aEmB327H8KmQAbmtEEzEZPUXgxJaRfBLqUoQSdUZ+4lSskWgVEY8SHNBmBVssDT\n",
       "YFEOAQyqkDbXgYio8gQ0bFaq8CbYDWEyaCs58QfvN/3lGnyBQ3ffn2o91V9/4XoHnKJjZUx+Ade7\n",
       "dNNllmR/KuWCIDhxaAAPUEpZR54Fxkyp5ko1ExVcBz1d1kDcsT/H0Bqf/ufj8qBniwtQwU9b8xtH\n",
       "wSOyG230u3GMoswkxz7iy4SEsUKzdKOBZse3yJ1A7SZKQljCMfpT9gnn9pFNH72aWlSFSFKlx7dC\n",
       "P0qlGVPecCxehJxibvBCAYEkemg2ZHb4QFpBY3/skOeBhk5CKIg749VP+30vHHfHUv3AW6Jhr3X7\n",
       "VwIFh0p3/N+IgRKtswThkJoXDGkHmUINpl/gHO8EqQXkUAMQlnetr85I3CsWv9H0keLRQi4I0rU9\n",
       "hGWFXzvB/TOBCX8YDVQNuf8opkaBfi/OdMScl7snKqdRrlOT587GoZvMzJFtWiAEZgpW2cfhWzR+\n",
       "ywrVkYd063UgylcyAGZZbFcD1eAMzaTM+So8abesSnbzj5RC4reAXs4cG5/11WCIcqafmVT7e2gr\n",
       "fO8NfnNJCVsTeJCA80sBzX+iYjeQoDmLyLy7yBU/08dWuksmsh+yIeJtDnqjiM2HjEHEVM9XiAWg\n",
       "ayXTrlkY5TrLzmaxISVKP0TOzF6You88CM34iB1PNMVDfDLLWvk6uH4z7azaUaKS8zbbbC4ThoPN\n",
       "ge1/A9bMzksVmcKVSZOHXPv28wQeNyUbMbuuLgsx2WxtiWawdhFC15JrcQSu8htnEJ6h3EKOYBt7\n",
       "9I5dRqSHNXss88Jmjj8+gexh53WqC92y3mma+LPIcWuL/+i777O/uw926BwnUWHfEmZLTy+3rHkq\n",
       "Dp2Z/N0Z0wuGn0nnZU/CzhewztC9Y+YfyTfEdN/Ily6eJRSKYjlgk+CiiHrf8p0QORzD5Cxi8vg1\n",
       "kYC3cTM4s014kAYSd9jkOq+Dovy80q0uv8pLnVmaedNF+ACVjaatPxoU0YlV91aZV3Aog77cACXg\n",
       "F59RNQc/Ne2DMYiOWAr155a9TAefkM8AiQ/7WJnTBRO1GNGEL3FzOhcbpkDgkuBey7AQ7xAhZn//\n",
       "7FKH2TCOTe/BD0LTG6j1veZoE2Q6JdQBEdLANj+8TmoZQF1rCFELBTvN60CZsIZu+dyi1VAxOscB\n",
       "dBpPyApcj8BFiIkPFVlGfEOtX1r16qTCT6V8sp/0d8rnFU2b2U9S2cbtTH+tYmayAQNs6la1hqnQ\n",
       "VAmOdIFnQDgdF5JEHBprvTGar8ZClZL0h0NHEBfO8vkrObGnlBcTY1t6BsXn727rS1GMwbwN27B7\n",
       "nKugluddk7M5vcWHfAaxXiEBlatc6NbRkonNScPK0/GRrt5f3l9XDFzzrgk77QwUVgLnjsb2Mjsk\n",
       "NgCz6BBsmvblDIWMsHxYv0WU5QF6uKxyP1RzVnBH5kjVtgPVysr4UEl9wa2bFfQyIQQ5zOUKzJIP\n",
       "v9fz3WpJ3IdQiEMYPIIgDyZVqblyS3w9iitzc26cSQ/7SntjjKWrOboV58N3RKBVDz++QhfnPdwX\n",
       "/kS3k9YWafJFrjnm3rdlKg8ze8ou6IVR5yPfVrhqPmzL89W46kOkmXc5GlSYod/5B9H8gglNXAD0\n",
       "YiEr6oD1o7SBqVKbBCAl503l0qOZWsmPk3/4pHzRPBPVzSLQtv+6AGq/XMPM1l1HZKpHpL7+h7rZ\n",
       "Hz5l8EkEa4kHG2BOpiyffWE0ZkKCenVT0fEB0as01klTmr1ou0RUE+wK6eou96AOTT/5qxNS+Nwh\n",
       "bgdYz8Sk8TQ42t0L8V/63ZaTTkBeVcWLhrEHKxCpn1lYuARD1oJ45m5kKYxlWp8xmCwtAXWEofLN\n",
       "/8Q1Www6kqCD+EV4g+nG75PcS1QJgvoqIDo88LY2W7GyOTbSL4suVoYbeHidOmf009TCuTpdy/ya\n",
       "AW139IARee7+DpmZUBaB/30H18ar9nkKbJNomd9Fm3HGkBwOgT8cipYmp+h7SwYC7O9poOuWAuu+\n",
       "qap7FyZGAdCc4OAP2/SkDju/nWfCEanXyc8hHeIxO7Mjh568tdXrXeqPTlvG++0eeEvqvwgs/Sbv\n",
       "LvVSCpAqGQbeYBdr+7GzNJtYwU0EO4gZ/q4DpW0ptGMBt/MMwyEE7YjyWOyxgU0YfiBSV7HMsWvb\n",
       "oFdwpyFzz57bA8p7UvDaK5IXrK2+IKJx5ptDFfkjHta4ghUaMpjrOZjkp5iQYN9zT2Vk92fAPVJz\n",
       "2ciCFKiDDatwRqy1qdt8uJrV776WL9vASUFJFfRSAl6mrcMHdM92IMQgGnY1/zehyuzrNsKz+T1T\n",
       "bJ7p4+Ot5LOT6zGBwaek+37erOmNwtIYOfHbw+G1xvA+UFeo2jy+R3GG9PPnjewnybiDXxW8ubOh\n",
       "gKLZaxB0q/fvfiNVePA2eUW3K2Sl7cLknHxvbODcATuWUTQLDxkKM3eJQfcYnv2JDN84q1XA0yJz\n",
       "CB6bDLwwjjHRH8e4yyA78Nc74EL91ubrdAmMTCHhgTtUXD4c/OhnvkZz6vb14AE9QQ/dDSXTPery\n",
       "qcyibwNG8tR/KKjA4IsE1owASY60S12eMuKr73q2Uy0+Bp2wa7XPFdtfwgd3AAAAQEGeY2pTwz8A\n",
       "AYhhx8q74CDH8/4sXPYV7aAtKMDzllXNI0tWQqQXTLtM6L/+Nqj218J7ogx2SkBQz7d4QSqBQQcA\n",
       "AAA4AZ6EakL/AAILnPe7fPJEeNtr5zco5xDWVEX2u8ovnRMxfNN7swlDgBbEiGL+TRWQlyoeMjLo\n",
       "d1UAAAzvQZqJSahBaJlMCHf//qmWABoM5/8kLg8aQAFBugJ8AFX/TraZjKWB9JInLgYXTjHNKHBv\n",
       "HBj+Dx1NfNRuhUfjFS8pGM1MK85v1Cf6mc1sJzUGpug0pqH2OAbRpV3MfP1eSywvNwEhF52RG5JP\n",
       "5PPwgDHSQB5Iy2WuFzYbcgGbUmRiBSDpNzHm11mr1Tqzygz+fdx3PGtX4py+zRi0lVuVa70MOe31\n",
       "h6gI56sTUNBuj+IKrSolJz7JPFhxl9o2jM3NvEyGqHL29ZLVub8sqQw2YpHjHb4Dh4h5zEVN0SL0\n",
       "da43sDwpNA3vAH4L6tgRHv7EsBh4NDw909ZvWiLwSJEXcJPNCBHQbKbprMqic1Wk+2GN64GU5Tz8\n",
       "4K/PG45mtXZopfbh9sKGGsHPaWT2SxmeoLbxhZ/i+GDnXbFwAyvfC4GSLmi/dcT3jA5n1Iuf8A9l\n",
       "YihNEzrBDv6MyKlVxHjEZ5xmtH7m2eQFXjB/rfuEASE0gCZYsld+oBMexX6UMWyclV/sAtSPFcUD\n",
       "WebvT/LagDYX8TM5YiJxl9beRtZj1ew3t2T3pFOtg8g0ocfpBNb+4WApQWyPcl0MFymXTM1VOoqY\n",
       "YOoHJleZ8sh922EDDJC4R52Wxca5XR8Q0ZRng5Vae9Ve0Z4Q8L05zPFUCdyO7JYNKqdZGUxS2qOR\n",
       "8ruZfwzk18FFpJR+1jTYktNli616ksUwXgYPxlCiRKkZRAPeYuuLkpMeRm5iXDVkofkPyipxmWYP\n",
       "HC7XSB0zyohPQ+hORz4cSEjGvV6s+iJMupbxyLG+gu3AnjiNE0TWeCew0WyC6PijvjcM3N1s4YGT\n",
       "0Aw2OjBVmtJS15EKBRZaLNW4+2ncpKqasjEbri7GyfNk21q4WVtv5UVZI7hBwFiWbuhpZjFYQWvk\n",
       "cBtAPgUTofB0Wp/rx+5RC8aobj+gthD1c7thUL2ModJExMejRjGmKwVbhFxHBECn1DoJMUCTDt9A\n",
       "ZNSMeBT60MQJ4/pmhFjbVRXmpDMeXz3kCpHGYXHyU4E+v1rCIGzTUblJsYkre82YF2oEbtymrw0O\n",
       "GJbWT3ulWPAf4R4wKjbUR6HCb8t8I0WBErVSIC++5Lc3yLx6wplrJCebpe82ZDTvXhG72Qt5FjJQ\n",
       "E69htQvf2d2PJCW/4jay/eDlV7T7dbJkVd52fs8+viLokPZo2YF+ZEJjh9pfGKukcZbjWvqwf0fy\n",
       "AVfF/CSCEoFUlkanXt8DcT+7VVL/mbZsaHao69CBRocv/dbJmCTKY1Vkx84wag957cKE3lN09YHd\n",
       "hJ+gcnzy+sB1b80Zezmm0+Yiy/NL+B0FMuNBp5dfKhySqow/IqYihXmYhuHyMRJgeGMG462f9snp\n",
       "fxBMHXnUASOSGkDXks0XZWpG9gHI/dk+N4wS8TXMXiRVsit6P+MkMY7hHOYi7T+7Y0bQeyuIgXTP\n",
       "1+/1Im6V4mxJOQ9iiu9fkFGpWnyWP4PVnkO1N9z9ffDFhxJZnQo2ALa08Sj1KOTcUIhrvDjCptbe\n",
       "e9SeBqG9f1sYJEIjonyPRsMEbB5h3GUmIf5xFIJkeEXHjEDz2T0DC1BDrC5EkWULpuB24dk1IDwz\n",
       "LSjzGeJ1X13Uds1mc2r3S3aNytGFXJS3PBOe1o0vPqSyyk10DmE2va3yGIaPmuBb6h8VUw+0P3tH\n",
       "uNxLFn9bIGQ7CLPyOuihDakZ9MzBewQPjjQ8l/aCddcehmh4h9uE1/pDrKSLD5V7rk10aic5sIE2\n",
       "TwsLn8o/B9IcUYBIdSWKMXY81bWed+oXbh6x3UalKgegKGhgN44IYKJ0nNKhnYdOyMa5wdlL4KHq\n",
       "83dZ9luidx0DXN8vO1hV/zgmM8LSJf1BrG65J9uz3GQ7OgK71ZX0wLCaGG+joKEL/+O7wQDvkC4B\n",
       "dP2uoqonDvVPPqYfQRxI2lYZDVBCijAkeyHDlHBC7ytYbeU7pFqhfTi3rM8sbc3R5ucxNMn763K9\n",
       "EOzt8nvhZj1d5CIGb9Tjpm4F6jICegJODuPlf1rJUC0M+2jdPMnDFvoYomOyxkBgDllIpB4MUOSU\n",
       "HUfN8se3VjRozYtsGtokWEs1BFsaGqjz7uhGwAf6Aidcy663VpQCC1PNhQ52pq3INzS8zfArGr/D\n",
       "wnzCK6hTKaSdjJMcn6H3YnkVEKeji91YaexOT4KhUr4yQbc26SXOu4XyBKYg3g79E0r6+fJNEu0d\n",
       "ZkdHI4Xr6A8vJNjpY3P2JQQ5uS4v2qZ8KHOrEnP1T4j4T7z/vACvg3VAfq36HVoSz1xcIt8VK84N\n",
       "+g2+YXrQ3+RdhuLCBwylemJcDrKo1r2+/FqT1g/SkxjZn1ww6WjEp/EDUJbMzLsZalnOcVDhj8lp\n",
       "8X/RlusGHqAW1YAU014lrHjn8b/+EICejlhBFId7VyiCByW+9ylUeQVUC4GhpAPoOEiIB1q/3DiN\n",
       "H8TRYx22Ut4htMAF4fuSRFg/wHGU0PEvE2xVygqanIBFuPmgNZJHDQxGkBaHtqwIAj5CRyvZWPS9\n",
       "VP13fxlMf3pT/9SkkNr/61UdLVqxD1Ntqn5c+g/KvaZWNzEnRQ+Mn72z6aqFBj99Y28+Ybvm+o5k\n",
       "vAXPE5/0G1MUWpr2aD7gyeD1KyZ5gRUmM+2B/lPjc+Rzqw5KAE9aIdoLp/aizRvVWpHm1Iwxp8Om\n",
       "A5nOnAOLSmSF8/V6NdLBghAPvah+w6v/u7EKITSe/i8QIiVWcAtOQrOFadAJ9JENR6iKvQ2ro1qq\n",
       "Dp+V1wOjIpnHydRClt0sbFpGTLElFpMVHH3QP2jsatpIw8+HLCr0FQBj2xK+QWwBh2+zqBy0oM++\n",
       "MmKkfJS3v+4baZfhf/qJgOnYglZ3k7gamoZ+U3Ov6eTw2dvwNproSrAab24cqH7J+0gBKlP1x0lr\n",
       "EPhBiB7+p+aG69c/AgaeAU59b/VRab/73IIrmit0BOYzXO7fq/i33xrWdgc8J9Q3a63DxANwT52R\n",
       "0mDybZdXj99vBgCVUN4Z1XFghSrck5gSeVxo/hz2FXgAktXAjI3HFsokLf213LVzX3YlL7D/Z/VH\n",
       "FV/cJ2TFujmks8lwvzn2wUirk8IHoV3RPq1kTaJR8LMFopk72vCqMQkKurs5lq4IwRDh9sKIeq/R\n",
       "khnd3tqFkhxLUkgsT4ooF+OqUtoGdbVVoWkqUFMiP4eXsaCEqYyIom13FyDD3Q24msie8YJ1QLoY\n",
       "rBzJBVBm9DUqYh1oTNXXaZme6rPVSnuJ0zvAt034arrz55Czg/r7JCrSBg5NKiA9KyGQS8xE37g+\n",
       "7xzCiStlaT2HU0CuUi2/ZP2od95J6Tv3h/m9HJv/xLO5MHEsQwrFtMcMIuo7eDQrt+jnSCha8YXO\n",
       "sUNRwlGJ2S9Ep8NeYcfWztxLBMUNn+2XWMDQ1NOnadKxR6XZT0Or0WM8aBHZRL4eH/E32s/9XEBa\n",
       "K1MThcLcDdQ/0d99z7FI7+9WaSitrXA1cuMu0tNC+Ba+PED8MzKiK8eGvDatRnGZfNhVaq2N0mP3\n",
       "5rQbfBNpSVKseuvdGIOs/qnGoZyHbxwTlG6vxXmC+aIzL+k+ZdkdbfC37F8xz0gXP18f2PTa+wUJ\n",
       "r5whTLF7Cmi4QBDCrYWN/f4k4sBrmrLNTXga0+hsW9CGdx9fskC8OPbHYwIFUeKUJzMyLxJ+vFGF\n",
       "t+ky4IGn+h8kl1yoiosXLcttKjx90kA0QSMa3KFuZUrw6+tIMQvS4rdVBqNa/zDW+2zQGev59YUk\n",
       "0YtXfYrqdRC2NExg+V6RqqtMgGTjVTvzFbrD0pDAPyTQdp+rU61rVSd5hOBoHntJTYp2QWId4A0L\n",
       "umhLroRukYiOSkVF3P1PvXOLNncQ1N5Tw38io0vGfxkq9m/eGrHtuA3Lce57i/83XYkEHaVKghw2\n",
       "4fY566axEIpj1jbFi4akqoMlVv/8318Vl0e4ebyYY6J127XJjyDDroaZAYHeUxVePFSAtRFy45+w\n",
       "zFbEOtO4YI2uFTsiR91dMA9MR4Z4i3VBTL3S7bRHFBB/4QzL/tkuRavI88CLftYsPhfNafZJSjwz\n",
       "KFgqryh2QTWzBZjiiVVxi2bcsQpQ8u9U9dQV3deCvm4zFWYfh4qt1tV+QwweKP9AvCkSZZqYu/Vv\n",
       "6NK6QusSiPQRuYrwu+mpq8QN8S42t8Vrs7WOg4re/WzHHfwKFbujW/CzC7FsHzRraWCcnCpxwB41\n",
       "QNnBQOe8ceWkUlgDZxfZ1HuPZ7JKfZ8osFuur2l7eX0npUVgJc+t+BFmniC9ujRxdfzZdxwZdmSj\n",
       "4H6P32q3D1yJ8CG/DdpgfBXVno3K1TePKLRxv2VREq033aI9d9cFG7YpgMVpJZKXWpDtX+O3qIIX\n",
       "mBcBPGdT8c6WJHBsvL3TPCKzpEq+HIl48ViiKJwalf6zRNR3a5iTTI8ei+ECeTK/s6acYZPjv64n\n",
       "seMen5z0LVOcFTEAAABbQZ6nRREsN/8AEljJSMsgajHMIb+uxm2wqkiI0CtC4MOwnOqylRJaqmOL\n",
       "AA6Dl3Pf5d/xrvH4cDaW8tfMGax29+9Z5NMDlnF0fx6rK7o/aUb8jREVHfXGyFohxwAAAFgBnsZ0\n",
       "Qv8AHl1g5xsADi0W1uapHYIZzpkPA5kmKJqjbmY2XepQefsEVvqzCSmxeyv0TVOAKIKzmcs8Okfi\n",
       "SnYclkw9cWBXqDf79DCYlh+7KevUBd5GuvBwAAAAUQGeyGpC/wAGIU+8GD5kH+YyPIXH3vh8IazN\n",
       "PPdjLyAD3T2ICUcSB4cwo2o6Djm/BUsnL9eqUz1kR473zzd40f5QsBXxJGWqXS3/G0msEGCRgAAA\n",
       "A1NBmspJqEFsmUwId//+qZYAGUlC0AUGrcK6gqD+hind9azR8GQ6z937CmUkXrSrlZkmvaYT5W9s\n",
       "XUY0obBfAwB7Io+V4j5hIc26wMxSOxV3bpGWn/ZXi9cf7fcXxIOm1Xx0QdCGeTjLoUKgjqW/LzMh\n",
       "srwkUBAGjzidGYMjc5MNWUtASFty4o4KGOnwj2VGWSUEcv8qdO6Z3UHuIvujYOvvLpsnvLMm5u+e\n",
       "btSf4mdG2MeNlD7jxv7m9likG8zP7Jqoe9Fb0c5bE+kDxkriFJqOlRAqkl9kc8Rj9AJkFP2thWig\n",
       "dP2jnkvuvd4OyUvAHh0AwU6bZ0ClB1V+Jpmyc1KyFmJxKEbMtmzJlc0xnXZ2BHFQHKkuo0eKLhID\n",
       "Tsn1v7mnhYe3/P7Jq2wQOxxKcHGEwhFC8JWgmEIVkIkc8Rj6RqkyfjR3QSl9eCBSe6+SyQG2hMh0\n",
       "PihTZ1kgK0SFLLPmusw7q7nmn+mtOuJyimadX8K7p2Va2z+8JxmhfskHD0p42oYTVfdhPqRH4xGP\n",
       "OJegg816zBK0EIK/14JOEanBPLTKAPDnF+TKQgUoOqlsFTq3p8S5U9Rwnrf3M5w2fezny4jzBe/R\n",
       "IlzrnfAjVroIL9BsjJGznY4+VAqsBmREocJt6aVZBTnGgftkZgviC3tgd+NHeSlwyoWP9MepT19g\n",
       "laAhWhGbwKT3XwgqGCSZDoS0zszwgK0SXZpgj7wnJhigH05eIXqGezqyVKf1EKVHkbEud5uX+kR2\n",
       "V13xYqODCcryEzoPtekzZK1aFnBRshubuuffgeHPv1bIqGumPUqKiQluE866r0hApQdVMO2qbenx\n",
       "NQWo9a0H+5oU+/qhhkZKqLxyjZlFujZglPpF6iBsbuoQeKJf04ZGzvkoQDVKf8K0t69IScI1OLtz\n",
       "78Dw5+LMql9X6HqVJQbas6XiUSEgUoOqnOpfCxHimrgea48b+5o11/VDDIycVx2RzxGPeIAkB+gX\n",
       "qIFNYUiXPRVccY0gdpdISm6kWwbjq7YpCW9JZb0rHE08XxxKk6gS0Xx4LU5+i2+RenRAo+MEiKBg\n",
       "8epSRXHO0xTn2fpS4u5/ZfKTz/67TuJszoEMiZywxcNTIGF+LgqM7ZZpcjxS67rLCWNFAJ/07QAA\n",
       "AxBBmutJ4QpSZTAh//6plgABEeV80bj/pWAHAP9l+wxypPIpjAqsPlctH7HDNbe4nUsr3HNNyCY6\n",
       "IBEqN69gRkZE213Z3QpHgR7A9Lm4lpXBlTYqiQJxoE8zOltE5HfEkfS+UuMjwTF8fTP75KRlQ6pw\n",
       "nMW9WEVtcOartAy6sKy9nME1JOT7qy/vBt7EWl+HISR2rCJvGXq+iXwyciZvkNnDcagSutH9juhN\n",
       "HBpACly0GNyhl6f3apSbElbFaXqtPy1dysujO7OsQTO7L33QB6kIBKKesyUV7d67EFH8DqkNAUY9\n",
       "IoL2GFSK75DURxEPsMEavMaQIELDvDEUTcLpdFi7c16uJDsvrdcx3tDpPR37obOVu7XkwG5hiJLP\n",
       "qmyR8gTj5TgoFK1c62AbmTom5K+BO9w6KWaPUoEzmz8Vcdvbxm5ecAse7o2FCsjbPsgNkGne9BJY\n",
       "JFmEnB5i9/AAGNZXgJsnaWi7EKBEBnhghAox7ozDZKnMeSSoRLNdR3vgZz04W2hRXZ2HGD9CFb0k\n",
       "2FNranBPUJhJilYScQzzMIxPjv6DAZVKOqj9Su4qqIIu6mRBulvymAaxhRQAfpHUlPQk1eBUTDhj\n",
       "RZ3qX4IfmPFt+3cgeZXLqyFUMH95pYxdSt5+gDJJWHWmIntV51GWOsUwLunUjCCkA9k0gO6KU1Ac\n",
       "NMM7TNN8+8AgfnAVRuztx0Sim7MdAhgVBRFWL8QyVPv/BEIuISyCOGLIKPgHG7/VQVQQmTv1Cs62\n",
       "/4FOBpKAR80RXPGBZuzKjEtRhBaOePFDhMaLN1o/1vNMKZPqHmJldeoXheQd8drigvlqyjsOQFki\n",
       "mc1a21MmZY/FgrRglcQNygeC3C5Ro/ohwSUKVRR17Zw1i4vX7Z41qw/bdwppCUA8TP/BKPPGwJzK\n",
       "hJYFow0ketdCA/9wMZkCOhhlJgGL9REkASZ4b++RdvxYYtbaZWPArfrQApTIy8L7xdArmG0P1ku8\n",
       "VcZIc+9PM7bgI8m1gYxQahY6ibivaCOgdF9R4TGY/iVMQvC9Hsk5yU7IQHhAAAAB90GbDEnhDomU\n",
       "wIf//qmWAAIjyv/BO3wl/jymaER9+iVvAYckJJf9GPrN9uAqdPzQLRE18zngHyMVd/fIfqDzskGa\n",
       "txbu6UNPhNFJYrdH8CY0SRcpoDGg6I1kyHa3SwLbsuUcBKrGa3P9GeXXfbZCgCAP+jWRYruDilnv\n",
       "q/+hEFzAPaoGIBEnEjaO3CXX+mkqPDlD/y93WjcSkh/zdozo4zmA7NIvXPXtWnKM5EwUx3KMGw/+\n",
       "pN2lqzYkKLbxoxWWeL6CFjGim2qSiAQwkXxy+K8bT+CxfmENywFXb8TcsLJa/tvOCzo4kZJsU6Kh\n",
       "vm4iF5NS6+rIj3ZxvbJFFMYSdxI0W0eMlm8mp6F2Flog6nGKDKoi9neP/rFY6tammPN+yLFXUA7G\n",
       "o8EY5DCHEKVVJ/mOxwuurpuS02pZDv7V6IcJMtp/Ju0YEPeT94c5nd0ugrnGRR5ROtStZJo83cGV\n",
       "4AM0qSYOemPpe8utC0GvB7+p8MypJbdF7lk6TYxu//gR2MRH/VvQMUfraf0ca6zYoIjagfLcegQN\n",
       "7HJItakpv4iPvU3siyq+R+xha32TvMWOkRsGH1MW5ZyqMNJuMDBRgcvMrA8xL8S091t3su2Vs5+6\n",
       "X8z2Vrl8mC/t1A0+O9Lpi74SoXxt38q+buaCa/RG2zBIxl0VAFJAAAAIpEGbMEnhDyZTAh///qmW\n",
       "AAHohgoAFaQFpMcZX9k9TM7CgC6dUwT2J/6xBe0i+vJF9QDphyNu6w8KcVBHPvzc4w4imxJW+X7j\n",
       "uHszUljqqJjG8370e7CmkXBMg2vinrzFDIXAUKBiTAX8g4s8w7tmuwwTK+Y36VGyur9hL/Wa74VN\n",
       "hBFBvG0zMP5hipREBLG14fX48Eeum4dS3/ii/LKE8D4TtOKrOl1K1IejjvSKxuuDB4gCSy8HFogf\n",
       "Fih1Vq1MsRo/ZTRi0TvKjdvG08uAq/KZr1+BloHrWyMFykn/KJA/OGa8AIZUJZMUjcrTNwvMeTBd\n",
       "O2VXZFErmC/7/Uv3qEuzeIyz2Hm3auB40pR2GuofQp4v0XL3VtpNe+hvELC0JPsbOnDAsdVWU7YE\n",
       "y+gSi7e37FWi/Z+pEMBpFTVFnDpXIDa9VezoUriUjGfMyrSsknyEEjAHw5BVpog1eP/oQxSGV/kG\n",
       "iyLx2syo15XlfXehZ87prOYk3exlWqYof5TG6aSCxZ21Z7bCd0n7IIHxE423CWZDU3U257CJlfUN\n",
       "hCQE9BPTMwrXTYJ41KpsYLYysnhwAVrzksiRBh/DeZyhreFo+WLD+onB5YtERGPdym/8X+Eaq4a0\n",
       "Ix6qHjbcmzLJWgTd4v0zN2Y6s84PgDpVZzMabHK4VIV5tqbgxezLHW+kyzjxaJE0T4DwKTg69GrG\n",
       "am42T0J05+3+DTVYlf7RhC2AtebqbTV7U2UanVWrywj+qGp4uAOPJdx+5kZCghFYZptAdgAsgN4K\n",
       "UBGGdBcbmnb7gxt4racdGdCSrsbWF8XyAF+5Z81NBnArk3n0wpJ4MGFZTeKlfqOXDXijw3rOBmjm\n",
       "wsChMjUX5BFvhBq3TDqG2XzIeg5/oMZJJoP+L+U+43EhuV8C9NZYyIFOMCxVwt7EmTK6zekKoqUq\n",
       "5wLrDowjI4L9Fs32VkisNzcAAP2nklAIPaT1a+kl9qIbTMLfRXCFt78V7w0/u/UYudlr66PsT+e8\n",
       "L5BVTZu4KF9u/eJJDcotqLF+8KpA6nOnrFu4nMVQb2qcWXGeWHdwD+5ANAYqAK56onWz2hh2yr6g\n",
       "ZHyG7qUSrZh1wqr7KVC6WjaTamLOMR+EUFepwxBwYFgOiOSbwu+puMSgpw2qx9kfaebGfq60j7Oq\n",
       "n95LTzhPXyJxfFqu17rYyMJGa2Xf27tT+CM/5/hpw11Heaj02oQZ7rTMCXizHthpzAlgvyJtycwv\n",
       "4l9hC1TXdRQ4mTmRkC05c9zvO7G7fWd/QJCPxpPZrtVv6KIKrFKUhZqzoBMHmSEvJH3s4Th0bAXt\n",
       "hNof9xDbAv/bIsFETg19r8/DkryXBwRtZNHq/BcR1E1qyxdOYId/XP0Tdc22kGYKLZbt8ARxitVD\n",
       "wlqkKJEwBEeJis10OtBKGMhzupuHCyWziIyxjevDGpj4Pbh6rYr0B+IGPVezyDs+E3JA5WL/RY9a\n",
       "aRuH3Yv/ixF1DjPXgbupmgn484Mfd4z8C3dCg81ewcqvutZ4vDrHDJSt4UEbKpYSbaFUwaPQ4nvz\n",
       "fIKN+Eg12pvkn72e8I3k1sDswiLkIp5Ly6ojPqAVWGeQCXaDCeaeR25LAaBvmGuE2nm6CbgCHh+0\n",
       "IOCQHPDumul84j9RJk6OU0Pkaa99mPl/wqnSWQKlsOf4AFG3CbtNK2Kn4CyNVtbryt+4+WLn3T6S\n",
       "zyKP6ez7STmWYdMWf9yXDlhBRnXDxI+Y87Gq3CHMU4uSyu4vdGV26L8wH/WbTHepHxnFNKATJGP+\n",
       "aGbNU8X2K6PwPe0uMYXbhQ9fYzjIIibIju2SXniNk1LEjoDKlhaVdDIdLqbJpW9KEtu/LIhqdarW\n",
       "m2x6iq8W2jw7ka9eEllzVT5sqIQbgyy5kQ6kAF46iCV/54BZBs5w0pj829tyhS+qpaZlSAIiHKQq\n",
       "8X3j2IbyAZ0N9k1eh1Ipsd8eqpeUTQi0QdbPDoHIZ/l1XAZ6IqgGKZT2WWl0qvw/TZOssNgyK5pB\n",
       "hK0xo9P4dil64P5E8PyGZh6nNxLnlpxGkcoOlVSeALAdWC65QWre9Z6J4mtAuWs/xRd8GrU8IpHl\n",
       "PLzrUDLNi6O9jtN73IiXibvdopgzkB5tlOX5hP+Gvh0lx6BB3SH0lLj+lboisowHCrbccDko+P42\n",
       "MX9+5rhfQFngAjgmH/2+y7ndC/iIIVLPmOKXUiB2GktYsCKn4CQPDiuOAj1u1fFHnV05oG/RRDVn\n",
       "zR/mQjCe81RI9DTMtL7dogoHE8RszeiX1C1PQucEleJpHfIc0SbPrrSZ4sRRMt6mhVQj3p8fGZuR\n",
       "qRB9t8dADOOcwWMCZTrtfOiiU6jOtgCpyjcMbBzn/eQwYVgvj/WCZNvCf49IHC68011FtTlNO+vR\n",
       "S6GJcacZej4aG8VL9FKZgD7xbssJylG8dJO+piML8H+zcEsjkdrz2csB76VAGtjuKDZUXH2VG59a\n",
       "UOrk2ftoFRAy2R4MO+7Q0JJCmuTYFROzSbYnLdIXjNI/7H0z8AnCu5tcfieYfA8bEYNMpBBapuRI\n",
       "AbntusMhWr9mXl8I2MlxL02ulUFwW+z+HNnhQJjtSVRONsEJ5wWyxfCT1ufAZQzSlyrQMYp80Hnm\n",
       "yQPpqZm8v1EXy0EOqanXe+yaJBHz1lQ28K2/R2NA62BSiI7L9AsJevSgTacWpCb+hXWH/ff7Fb0F\n",
       "TP5vGs/yAwzSAREczuvhpjOVNe5rTjMyMmPMLj5EaEaOiKdIAJw8WWLa3GtG97Dq/rDLxSx7NIH3\n",
       "oBpuXvfRxh80KTT9Z6qONFzcS3QWgD+mODhGJX9a+JRTWdR+XpXn6enetZ04jhAth3sM+TUhZanK\n",
       "dDvpoeQjDu7ZPDL27ENnisxhNL4PK4iIAhXsXnmz6oN22uNwp1HXLYNU3CdohwVQuPZ6V3UfE08J\n",
       "y424t+r87aMFZ9KQM3DWH71Rwylgr00tJp3BaL6oDfkAAABdQZ9ORRE8N/8AAWslO1zwCpAC3LoU\n",
       "AQKLYUeKS2JJ+2dCZ34GG/0cBSnSlrk1qevmwj5EoB2C44bQrycif/p5UyszOKivTrx9z0x1sluW\n",
       "CZ7BXuRI3s3qgl5uHtKbAAAATwGfbXRC/wACSxgHlL7+SrWna0DXA9gGlB2FL8atnRM/I9i25bLN\n",
       "IKpTqE00VABt4rAANczcgISFGeaI727cBwLXGhz9YFw0GT38LHIAZcEAAAA4AZ9vakL/AAJLnQev\n",
       "ymQ3qK1gK2oEw8JHUpasbHGZHpBeBVrzyC5syFlC4iJODnAIKp19OCAArYAAAARfQZtzSahBaJlM\n",
       "CH///qmWAAHoXRPvV3boJKiErvmKtekGyBvA58f32OPdi+QHzWr93/h4IqHnQMI0JU39i6bP8F3i\n",
       "BhDEvNc0PxZ+kvfkDMOhZFTvf1Mb6D8q6ZEZPGjImHv1rM0yRghfqeb4Vwc9+mKAPyXsIP7cNoD6\n",
       "qYH5Xyi3pSmiHiwb2gX5XrakdCQe1ATWWgHCuMILxugzhYEIjeoAhawRcy5NFD1zHzpKnxN2S5Py\n",
       "5Eozn8E02IOfZ7Vd7LJBlzD96dR8EoQsT7pMEeF8Gr9J6e5HX3t7j9YPJP3fsNH/nYWO4nyY7zbV\n",
       "j96WIv6NmuSaBBeh6eH3ZjX2n1Nk78q2DUup5CLOzJN2FIzDdI3Yx+F2/lq+HgKVgy8isxDGIXNW\n",
       "vHjrnA2f6+DNCE+2Naih5tntSjf3OzYlYMsr9npRLLEvunG/8dWZOFxOxo9SS+UYV7xp/sd6gI7c\n",
       "lrLBr7Je2xoLqjYH5zuoBBSuvH70PgSoPWqWyDR1cvwKqMHEANESNz/phhxtBWow4FHR6/+C1qYH\n",
       "Y7ek+n91xbTRjS7jnKq17b50fkrFWmDvAiDQyelEsTW/cRtGLVkMacAKtQhAD4wTeLbbym/+60h9\n",
       "7fqYbIzyVIEBwqBJZSQ8DuN8d4yVC+DbnKSybPm3YxAPffR1KY/cC4FPybpD6005x8GCW7FSmrVY\n",
       "cd0XFaaQzheB/5zq/TfKMG20WEYfd0hWO7+Ib0HrpkYgo3+y+D3cr2LKMUAVrRsK+/jFl/v/zP5D\n",
       "m7B9trjkIjnrESvl1mV/+mYe4eNKwNptUCoZUjRF0LQvuc6bg5CeEmXXYsa/pgqifsr6bdz835UY\n",
       "W6kl6R5qVWCKLjlqUrk6gIwXPyf93iZiDxZy+3+ocVvOcNBCj/FlXCYTT40O6kM5iXadfAipGfI/\n",
       "960lyyB/FIAQsO/p+DScmvlAIfBNnjR/bhB27Bk+sRiYqT8xdSr6JNpHiDxUtg1xXAoornEOpjMK\n",
       "tDK9E8OZ5xWK3hD6EURAJTh3RIQJPd3uGY2UUHG/usxHcEfAwcvpglisxMunYjJkQMdTqn5s1BGc\n",
       "f6LtfcNyh14XMblLhl++ILG7YbYSZC3+Fzaa8xe83sfCA4GHna+gVPoIfwafkg1o0S25iaYuOCEs\n",
       "nO0cs7099pW9rLVIvhR1zZRtgFPg+gd1KHPhxcllv8ITP0Ker38vh0TYur17oeSy9g8pPyA8YpUJ\n",
       "L0f9qSG/6QXelrPznVgj/lrNGKxJb1AuMuZ/o5CPM6Auv0EPw7DxpxC55QwPdsMwBWClBRiI/jSd\n",
       "mrfmqO6aNX/fsTdj2JjOmiZdFvOQvP7m4ua/jY4gsc4Zjf/hfu9lqrOaKvWX/+Kq/5RQ/2HxHQpX\n",
       "2aL10nd1h30xjsepS+xyFg4IHSnqqvgio8lVy9ky2u/O67LwryziGpikAxRHjwfk7nOIqof+bLXS\n",
       "i7VGUg3WbpIz+gmrkKnHpfjb4O0JT0VdTAYEAAAAUkGfkUURLDP/AAG6W0iYYAhBh5BQAIg8icL8\n",
       "5TRN1k+f+NUW/0wQ3vblZZ5lTAR2ep5ahbQn6kpHJoFY6GsLgJNmjJ0ChNKBKq89z97rGJF+zUkA\n",
       "AABAAZ+yakL/AAEFzobMgmgGVksp0OdPq0MtJYAWw8nvtGKh2b2WBHHy1+S4u/xTTtbqpk1nqr0q\n",
       "Xslyzm1AJ3QGLAAABLFBm7dJqEFsmUwIf//+qZYAABQuFvwjlYgA6KHmjNHv32BUjYmb8YprXdna\n",
       "NJCSYlkKDGpQ0UKKL8QCsAwZywKc9KFGDwJVagd55/zOS+mdBdiwAZWMaj2TFMbmaHEO7q98T5Y2\n",
       "HR9ahvFSLwXHOfTUBSRt9DPvNJ33qVLNuVX3CpkABsXtEGPDYVoHE8uNJ78GqKCCWfZTWYLFK7z9\n",
       "oIO154Zj3LkUhZQ18V/nQKZYIWtw+iCto8/HnCcX7zWlJlAtB4eSM8zvjS92UzNAEC8MaF8aGSrb\n",
       "UzAc0/AJZxjTSDIA9moUCy0bcb/kPeyAiKFcQhMf/VWJnHSeQ6vz6C8yLXMdnvMWQ5V9dpovHK8P\n",
       "n3YmrRx/pg7OTzRVlmalp8ir9H2tvX/wn4oTDY6K1nTn1OPOnxVUIvuCfzStuF2SwVUaJTjUmQfn\n",
       "IaZHZ9mUfEiFoM/xjkfXyECSr954IrSouC22XN63Q+05PVJqiJOTk4LK8wkUEBSH0xeeG+g4Qzus\n",
       "nQRUi2eNjRhOyKqroTZUgjwFucUGOeqsmvqyXO89/+oF8GCCcKi+iNeNivzOcf09vVY5SwLgVhs6\n",
       "uSFg38SwcAlvWDQ3VKIwsV7gxrxwMS8r4/2NrytqlYZ8AfYEjPTi8JwkAUxoybee0h8/asdfFHU2\n",
       "Xo9zoNAU2UPI0KVLvgwnA2J3h8RiAZW+FC6oUtanok+VAg744vnMHIek0DrnvYUL618RnQ68PNBO\n",
       "UxhqIq4eHRt1NR6MW3q9yHOp1pBLKZ6huT+dV187JbMqwmTEhGm/dP5Msh7PzUwxCBE8BHG/SMMr\n",
       "rV6CPN5xhDcemF62mcX0m4cS/r4xedpWqhMb/ZGnpq1aCfVGCth9BpZpW7wZzFlOrZrKHWNzBuoD\n",
       "zF5Q6ol3PJ/ggYGPldJ9yYC/weFmrUR+YfKbsDTM3Y4xSxKd/jxtp+TPNiXzp20c6Gg2+fbDpC6Z\n",
       "1TknqFlgw6gxjjegjxWrDzBWjKqo5NXn4JHGxLqhuWy2+CV5CRBJCVpCHAUD5Hzn7Gx+tTKa+0JW\n",
       "M/Y7Hq1lfq4iRX/AHxUBMCPhZdzrivYl/5pRB/ofx4frsLrDVoPyHGAlUrXKun6XAPfrzyg19TXb\n",
       "g/Q+xjjP4C3SnR1tK0EliMN5nnvleQ6zcqlmA4fN3KF3OvjnRq8Rr3eDOLNOJ7iBfY9zgJHSruaj\n",
       "LqW5mCvUTC6z25wJBbkk5j5AM4YPJfi4dFR6iicNsNO1gYJS0qw7mp9FLbTz6bpvzBH8ocFjWKbz\n",
       "6xVEt1l64Fq3kDQvFdOiOyPgiUsWF7BgArTBU1bbGwr3pm5S+qv8hX2joeH/RCX7mqAHnZfLmJW0\n",
       "4VLDI0x4MPEyiG+qMoiTB94keKg+Lr/b2LZTUaHFHEXTf4QPiwN+GdV+DiCIqkcHAFbm7mE8+dgZ\n",
       "/mesVzcDLLKLsAwTcmYnx15qxBg06uM99TstNfz8GZgcDupEtdW+MhYELdpagFkIy9I9flibuDeD\n",
       "CU8yA5JIrAlL3qiX4EH2eAaMIEgPjBKU/xzmqz+xvmzl6XoM2FHc63cDEXkALULoBn8YO7mHfPqn\n",
       "70DhOWjwWANWtXgOOVJzIEPAAAAAYkGf1UUVLDf/AAFrmB8KGxovdIr2f6Xt9L5lHAOpK0EHNWbW\n",
       "RLceOjUSNNpjAj1vzowwDZPAwHcvACaKM5XaGYDKZRA/3F5XOY/VkIqABcFvjO6v5JeDXiW6zHtF\n",
       "r1NK4F3BAAAAQgGf9HRC/wABBYwDynThxASVkEixUpHLqmpRQA6xPfA5CHZxvE7rIAbeT359wbOB\n",
       "N9boFA6Dz5DmxIw275P4eoAD5gAAAEUBn/ZqQv8AAQXOg9fk4eX10eZnkCXUAAWpH0g+0UE9ddfb\n",
       "NIoraf0OwQRJaQiEO2Cjc9NkzL7PxIW7X6194wxpzg8YAYEAAAJsQZv7SahBbJlMCG///qeEAAAm\n",
       "okOONL5wA2+RqGzoGYOL63ed+IeQyvaZSHGSEHU+9Gu02PFJ2DgRWI0EeRl9gv4o99Xhw0nOYCwZ\n",
       "cGVtraVOFxSzQyErE/FGR6DLvZ21THuBge6L32y3oS/aXBnjAIed9lDC6cQV7U3eCpHNqnid6BKy\n",
       "74q0izow+6LSDvTLB6N25TgO3k6cwCERce2dJMkI3PuY+OD/CJN+2yuWRLOSSC8RJtMEJwLWxJ+5\n",
       "JS7LTPdPkIz7PSlMB3UYg6KzIvjSav1O46ZZF/GLyw4GsOAlK8YduwjA73NV5OQbfMCWB3+l2nOT\n",
       "j+2DiUgFsrHH0YD2oI1gRknLNBoBvPBhGhPwawXJ8QmqhLmuYrlD8eIl9hKy9RQNhJmd+c1FlCsJ\n",
       "XfMFSwYbwp18kid84LVX4zkiEkTdIc+OeORfaF39JrtF3sam/Cp1U1nDQMv6O1/6ewGDG8b7mUS+\n",
       "k907xgjvEcdwzGD8//XngNB20yJzkOW2mttvdHn0zhNTfLYSehlklUqnXdFhkSZfmLTSf15aJmjB\n",
       "dd5MKIxfD5h041DnTIeVsj2j6t0ROoDefIJ7kyfyf8Zc+VMC5qaPRWRBpV8N9hmYNBrDWit2QGJT\n",
       "tqLaTDgYQLiu1gJkDCFJ7dMeqJhIdSNF3iETcYboS5izahFR3k+syRiFtBXHaAlp82+qXJihxYnX\n",
       "ImIeAeCS4/b2VrhkcZjzhJ9r6TddEozDhUzXG5ucV/NV//RdmWWDGvokCNndPqxDyp+ZjX8aWU4e\n",
       "uUpjRJzg5w8R5eq6Wu9cYOAt2P8ZPhQHDrku56AAlYEAAABUQZ4ZRRUsN/8AAWuYHwobGi90ivZ/\n",
       "pldTzo3r7uDcEDaKpKI9xxwpTgBXLxeG5qFfocbso7XkgATGF+9DIUkTaGJLuCXdc1mT+dc6gUKA\n",
       "YvhFYEyoAAAARwGeOHRC/wABBYwDynThxJDYzaBX0NDqS9jjPhzURjIAPwaqJLDDMsW2EQQaWLOe\n",
       "O7tInfD0z0L6lA1CqumO8neNDSndYPGBAAAAPgGeOmpC/wABBc6D1+Th5fXVa7L/vVZAGZT1JKej\n",
       "Hekp6rwAWCdZGQeo3Gn/9RCtrrjLXjTsUKF3TjlXOBFwAAAApEGaPEmoQWyZTAhv//6nhAAAAwON\n",
       "r34OXFzgA4SHib5I1GUBTV7v+9wVnf1eRKaTs7WP4ZgZ1dgZWZu+oYuLCN30Q0kh5OkAExhflRYL\n",
       "zLA9kge1ZEEqZxk6h5x1fUwD4eVDQraX/3pOc3OqTH/FNJ1KXt1qjBvKP/+eG86Hc6pRX7tL5uY3\n",
       "ULYNWRI4nRgJ5IxQna5Mljz7mkuP0m7cdIFRj4G1AAAAbUGaXknhClJlMFFSwv/+jLAAAA2UNJAA\n",
       "E44pOwkpV/fO7/qLW1h6s9hiGnPI7Tr+UnOThU873RDXWL0QmScjLsZzVw7lVrIjqbwY7TiVjyXS\n",
       "J2z/YH83npBMf0HmmNkXc/beU0lbAd01dsgAOqEAAAA3AZ59akL/AAAyRYW5eTtU8It0Ft6YCYQA\n",
       "Sz1RAAUIx2aIdosxf+pmA4novWgvWCjdk+IMvPyJBwAABIRtb292AAAAbG12aGQAAAAAAAAAAAAA\n",
       "AAAAAAPoAAAH0AABAAABAAAAAAAAAAAAAAAAAQAAAAAAAAAAAAAAAAAAAAEAAAAAAAAAAAAAAAAA\n",
       "AEAAAAAAAAAAAAAAAAAAAAAAAAAAAAAAAAAAAAAAAAACAAADrnRyYWsAAABcdGtoZAAAAAMAAAAA\n",
       "AAAAAAAAAAEAAAAAAAAH0AAAAAAAAAAAAAAAAAAAAAAAAQAAAAAAAAAAAAAAAAAAAAEAAAAAAAAA\n",
       "AAAAAAAAAEAAAAAB9AAAAfQAAAAAACRlZHRzAAAAHGVsc3QAAAAAAAAAAQAAB9AAAAgAAAEAAAAA\n",
       "AyZtZGlhAAAAIG1kaGQAAAAAAAAAAAAAAAAAAD4AAAB8AFXEAAAAAAAtaGRscgAAAAAAAAAAdmlk\n",
       "ZQAAAAAAAAAAAAAAAFZpZGVvSGFuZGxlcgAAAALRbWluZgAAABR2bWhkAAAAAQAAAAAAAAAAAAAA\n",
       "JGRpbmYAAAAcZHJlZgAAAAAAAAABAAAADHVybCAAAAABAAACkXN0YmwAAAC1c3RzZAAAAAAAAAAB\n",
       "AAAApWF2YzEAAAAAAAAAAQAAAAAAAAAAAAAAAAAAAAAB9AH0AEgAAABIAAAAAAAAAAEAAAAAAAAA\n",
       "AAAAAAAAAAAAAAAAAAAAAAAAAAAAAAAAAAAY//8AAAAzYXZjQwFkABb/4QAaZ2QAFqzZQIAQeeeE\n",
       "AAADAAgAAAMA+DxYtlgBAAZo6+PLIsAAAAAcdXVpZGtoQPJfJE/FujmlG88DI/MAAAAAAAAAGHN0\n",
       "dHMAAAAAAAAAAQAAAB8AAAQAAAAAFHN0c3MAAAAAAAAAAQAAAAEAAADoY3R0cwAAAAAAAAAbAAAA\n",
       "AQAACAAAAAABAAAMAAAAAAEAAAQAAAAAAQAAEAAAAAACAAAEAAAAAAEAABQAAAAAAQAACAAAAAAB\n",
       "AAAAAAAAAAEAAAQAAAAAAwAACAAAAAABAAAUAAAAAAEAAAgAAAAAAQAAAAAAAAABAAAEAAAAAAEA\n",
       "ABAAAAAAAgAABAAAAAABAAAUAAAAAAEAAAgAAAAAAQAAAAAAAAABAAAEAAAAAAEAABQAAAAAAQAA\n",
       "CAAAAAABAAAAAAAAAAEAAAQAAAAAAQAACAAAAAABAAAMAAAAAAEAAAQAAAAAHHN0c2MAAAAAAAAA\n",
       "AQAAAAEAAAAfAAAAAQAAAJBzdHN6AAAAAAAAAAAAAAAfAAAECgAABKgAAAA8AAALyAAAAEQAAAA8\n",
       "AAAM8wAAAF8AAABcAAAAVQAAA1cAAAMUAAAB+wAACKgAAABhAAAAUwAAADwAAARjAAAAVgAAAEQA\n",
       "AAS1AAAAZgAAAEYAAABJAAACcAAAAFgAAABLAAAAQgAAAKgAAABxAAAAOwAAABRzdGNvAAAAAAAA\n",
       "AAEAAAAsAAAAYnVkdGEAAABabWV0YQAAAAAAAAAhaGRscgAAAAAAAAAAbWRpcmFwcGwAAAAAAAAA\n",
       "AAAAAAAtaWxzdAAAACWpdG9vAAAAHWRhdGEAAAABAAAAAExhdmY1Ny41OC4xMDE=\n",
       "\">\n",
       "  Your browser does not support the video tag.\n",
       "</video>"
      ],
      "text/plain": [
       "<IPython.core.display.HTML object>"
      ]
     },
     "metadata": {},
     "output_type": "display_data"
    }
   ],
   "source": [
    "with Terrarium(animate=True) as t:\n",
    "    t1 = Turtle(t,'navy')\n",
    "\n",
    "    t1.point(1)\n",
    "    polyspi(t1,60,65)"
   ]
  },
  {
   "cell_type": "code",
   "execution_count": 6,
   "metadata": {
    "collapsed": false
   },
   "outputs": [
    {
     "data": {
      "image/png": "[encoded data removed]",
      "text/plain": [
       "<matplotlib.figure.Figure at 0x10fcadac8>"
      ]
     },
     "metadata": {},
     "output_type": "display_data"
    }
   ],
   "source": [
    "with Terrarium() as t:\n",
    "    t1 = Turtle(t)\n",
    "    \n",
    "    t1.left(20)\n",
    "    for i in range(200):\n",
    "        t1.forward(1)"
   ]
  },
  {
   "cell_type": "code",
   "execution_count": 7,
   "metadata": {
    "collapsed": true
   },
   "outputs": [],
   "source": [
    "class ShakyTurtle(Turtle):\n",
    "    def forward(self,distance):\n",
    "        self.right(random.uniform(-10,10))\n",
    "        super().forward(random.uniform(0.75,1.25)*distance)"
   ]
  },
  {
   "cell_type": "code",
   "execution_count": 5,
   "metadata": {
    "collapsed": false
   },
   "outputs": [
    {
     "ename": "NameError",
     "evalue": "name 'ShakyTurtle' is not defined",
     "output_type": "error",
     "traceback": [
      "\u001b[0;31m---------------------------------------------------------------------------\u001b[0m",
      "\u001b[0;31mNameError\u001b[0m                                 Traceback (most recent call last)",
      "\u001b[0;32m<ipython-input-5-bd78a9d00d6e>\u001b[0m in \u001b[0;36m<module>\u001b[0;34m()\u001b[0m\n\u001b[1;32m      1\u001b[0m \u001b[1;32mwith\u001b[0m \u001b[0mTerrarium\u001b[0m\u001b[1;33m(\u001b[0m\u001b[1;33m)\u001b[0m \u001b[1;32mas\u001b[0m \u001b[0mt\u001b[0m\u001b[1;33m:\u001b[0m\u001b[1;33m\u001b[0m\u001b[0m\n\u001b[0;32m----> 2\u001b[0;31m     \u001b[0mt1\u001b[0m \u001b[1;33m=\u001b[0m \u001b[0mShakyTurtle\u001b[0m\u001b[1;33m(\u001b[0m\u001b[0mt\u001b[0m\u001b[1;33m)\u001b[0m\u001b[1;33m\u001b[0m\u001b[0m\n\u001b[0m\u001b[1;32m      3\u001b[0m \u001b[1;33m\u001b[0m\u001b[0m\n\u001b[1;32m      4\u001b[0m     \u001b[0mt1\u001b[0m\u001b[1;33m.\u001b[0m\u001b[0mleft\u001b[0m\u001b[1;33m(\u001b[0m\u001b[1;36m20\u001b[0m\u001b[1;33m)\u001b[0m\u001b[1;33m\u001b[0m\u001b[0m\n\u001b[1;32m      5\u001b[0m     \u001b[1;32mfor\u001b[0m \u001b[0mi\u001b[0m \u001b[1;32min\u001b[0m \u001b[0mrange\u001b[0m\u001b[1;33m(\u001b[0m\u001b[1;36m200\u001b[0m\u001b[1;33m)\u001b[0m\u001b[1;33m:\u001b[0m\u001b[1;33m\u001b[0m\u001b[0m\n",
      "\u001b[0;31mNameError\u001b[0m: name 'ShakyTurtle' is not defined"
     ]
    },
    {
     "data": {
      "image/png": "[encoded data removed]",
      "text/plain": [
       "<matplotlib.figure.Figure at 0x23068437198>"
      ]
     },
     "metadata": {},
     "output_type": "display_data"
    }
   ],
   "source": [
    "with Terrarium() as t:\n",
    "    t1 = ShakyTurtle(t)\n",
    "    \n",
    "    t1.left(20)\n",
    "    for i in range(200):\n",
    "        t1.forward(1)"
   ]
  },
  {
   "cell_type": "code",
   "execution_count": 6,
   "metadata": {
    "collapsed": false
   },
   "outputs": [
    {
     "ename": "NameError",
     "evalue": "name 'ShakyTurtle' is not defined",
     "output_type": "error",
     "traceback": [
      "\u001b[0;31m---------------------------------------------------------------------------\u001b[0m",
      "\u001b[0;31mNameError\u001b[0m                                 Traceback (most recent call last)",
      "\u001b[0;32m<ipython-input-6-c3a382f15fc9>\u001b[0m in \u001b[0;36m<module>\u001b[0;34m()\u001b[0m\n\u001b[1;32m      1\u001b[0m \u001b[1;32mwith\u001b[0m \u001b[0mTerrarium\u001b[0m\u001b[1;33m(\u001b[0m\u001b[1;33m)\u001b[0m \u001b[1;32mas\u001b[0m \u001b[0mt\u001b[0m\u001b[1;33m:\u001b[0m\u001b[1;33m\u001b[0m\u001b[0m\n\u001b[0;32m----> 2\u001b[0;31m     \u001b[0mt1\u001b[0m \u001b[1;33m=\u001b[0m \u001b[0mShakyTurtle\u001b[0m\u001b[1;33m(\u001b[0m\u001b[0mt\u001b[0m\u001b[1;33m)\u001b[0m\u001b[1;33m\u001b[0m\u001b[0m\n\u001b[0m\u001b[1;32m      3\u001b[0m \u001b[1;33m\u001b[0m\u001b[0m\n\u001b[1;32m      4\u001b[0m     \u001b[0mpolyspi\u001b[0m\u001b[1;33m(\u001b[0m\u001b[0mt1\u001b[0m\u001b[1;33m,\u001b[0m\u001b[1;36m100\u001b[0m\u001b[1;33m,\u001b[0m\u001b[1;36m119\u001b[0m\u001b[1;33m)\u001b[0m\u001b[1;33m\u001b[0m\u001b[0m\n",
      "\u001b[0;31mNameError\u001b[0m: name 'ShakyTurtle' is not defined"
     ]
    },
    {
     "data": {
      "image/png": "[encoded data removed]",
      "text/plain": [
       "<matplotlib.figure.Figure at 0x2306850a748>"
      ]
     },
     "metadata": {},
     "output_type": "display_data"
    }
   ],
   "source": [
    "with Terrarium() as t:\n",
    "    t1 = ShakyTurtle(t)\n",
    "    \n",
    "    polyspi(t1,100,119)"
   ]
  },
  {
   "cell_type": "code",
   "execution_count": 7,
   "metadata": {
    "collapsed": true
   },
   "outputs": [],
   "source": [
    "class ShakyTurtle(Turtle):\n",
    "    def __init__(self,t,col='b',shakiness=10):\n",
    "        super().__init__(t,col)\n",
    "        self.shakiness = shakiness\n",
    "    \n",
    "    def forward(self,distance):\n",
    "        self.right(random.uniform(-1,1)*self.shakiness)\n",
    "        super().forward(random.uniform(0.75,1.25)*distance)"
   ]
  },
  {
   "cell_type": "code",
   "execution_count": 8,
   "metadata": {
    "collapsed": false
   },
   "outputs": [
    {
     "data": {
      "image/png": "[encoded data removed]",
      "text/plain": [
       "<matplotlib.figure.Figure at 0x230685d5048>"
      ]
     },
     "metadata": {},
     "output_type": "display_data"
    }
   ],
   "source": [
    "with Terrarium() as t:\n",
    "    t1 = ShakyTurtle(t,'navy',5)\n",
    "    t2 = ShakyTurtle(t,'coral',10)\n",
    "    t3 = ShakyTurtle(t,'seagreen',50)\n",
    "    \n",
    "    t1.left(20)\n",
    "    for i in range(200):\n",
    "        for ti in [t1,t2,t3]:\n",
    "            ti.forward(1)"
   ]
  },
  {
   "cell_type": "code",
   "execution_count": 9,
   "metadata": {
    "collapsed": true
   },
   "outputs": [],
   "source": [
    "class PredatorTurtle(ShakyTurtle):\n",
    "    def follow(self,prey,distance):\n",
    "        dx, dy = prey.pos[0] - self.pos[0], prey.pos[1] - self.pos[1]\n",
    "        angle_to_prey = math.atan2(dy,dx) / self.deg - self.angle\n",
    "        \n",
    "        self.left(angle_to_prey)\n",
    "        super().forward(distance)"
   ]
  },
  {
   "cell_type": "code",
   "execution_count": 10,
   "metadata": {
    "collapsed": false
   },
   "outputs": [
    {
     "ename": "RuntimeError",
     "evalue": "No MovieWriters available!",
     "output_type": "error",
     "traceback": [
      "\u001b[0;31m---------------------------------------------------------------------------\u001b[0m",
      "\u001b[0;31mRuntimeError\u001b[0m                              Traceback (most recent call last)",
      "\u001b[0;32m<ipython-input-10-560b47eeb54a>\u001b[0m in \u001b[0;36m<module>\u001b[0;34m()\u001b[0m\n\u001b[1;32m      7\u001b[0m         \u001b[0mt2\u001b[0m\u001b[1;33m.\u001b[0m\u001b[0mfollow\u001b[0m\u001b[1;33m(\u001b[0m\u001b[0mt1\u001b[0m\u001b[1;33m,\u001b[0m\u001b[1;36m0.75\u001b[0m\u001b[1;33m)\u001b[0m\u001b[1;33m\u001b[0m\u001b[0m\n\u001b[1;32m      8\u001b[0m \u001b[1;33m\u001b[0m\u001b[0m\n\u001b[0;32m----> 9\u001b[0;31m     \u001b[0mt1\u001b[0m\u001b[1;33m.\u001b[0m\u001b[0mpoint\u001b[0m\u001b[1;33m(\u001b[0m\u001b[1;33m)\u001b[0m\u001b[1;33m;\u001b[0m \u001b[0mt2\u001b[0m\u001b[1;33m.\u001b[0m\u001b[0mpoint\u001b[0m\u001b[1;33m(\u001b[0m\u001b[1;33m)\u001b[0m\u001b[1;33m\u001b[0m\u001b[0m\n\u001b[0m",
      "\u001b[0;32mC:\\Users\\Artur_Zahreba\\Desktop\\ML\\Python\\Python Programming Efficiently\\Ex_Files_Python_Efficiently\\Exercise Files\\chapter4\\04_03\\turtle.py\u001b[0m in \u001b[0;36m__exit__\u001b[0;34m(self, *args)\u001b[0m\n\u001b[1;32m    124\u001b[0m         \u001b[1;32mif\u001b[0m \u001b[0misinstance\u001b[0m\u001b[1;33m(\u001b[0m\u001b[0mself\u001b[0m\u001b[1;33m.\u001b[0m\u001b[0maxes\u001b[0m\u001b[1;33m,\u001b[0m\u001b[0manimaxes\u001b[0m\u001b[1;33m)\u001b[0m\u001b[1;33m:\u001b[0m\u001b[1;33m\u001b[0m\u001b[0m\n\u001b[1;32m    125\u001b[0m             \u001b[0manim\u001b[0m \u001b[1;33m=\u001b[0m \u001b[0mself\u001b[0m\u001b[1;33m.\u001b[0m\u001b[0maxes\u001b[0m\u001b[1;33m.\u001b[0m\u001b[0manimation\u001b[0m\u001b[1;33m(\u001b[0m\u001b[1;33m)\u001b[0m\u001b[1;33m\u001b[0m\u001b[0m\n\u001b[0;32m--> 126\u001b[0;31m             \u001b[0mdisplay\u001b[0m\u001b[1;33m(\u001b[0m\u001b[0mHTML\u001b[0m\u001b[1;33m(\u001b[0m\u001b[0manim\u001b[0m\u001b[1;33m.\u001b[0m\u001b[0mto_html5_video\u001b[0m\u001b[1;33m(\u001b[0m\u001b[1;33m)\u001b[0m\u001b[1;33m)\u001b[0m\u001b[1;33m)\u001b[0m\u001b[1;33m\u001b[0m\u001b[0m\n\u001b[0m\u001b[1;32m    127\u001b[0m             \u001b[0mpp\u001b[0m\u001b[1;33m.\u001b[0m\u001b[0mclose\u001b[0m\u001b[1;33m(\u001b[0m\u001b[1;33m)\u001b[0m\u001b[1;33m\u001b[0m\u001b[0m\n",
      "\u001b[0;32mC:\\Users\\Artur_Zahreba\\AppData\\Local\\Continuum\\Anaconda3\\lib\\site-packages\\matplotlib\\animation.py\u001b[0m in \u001b[0;36mto_html5_video\u001b[0;34m(self)\u001b[0m\n\u001b[1;32m   1153\u001b[0m                 \u001b[1;31m# We create a writer manually so that we can get the\u001b[0m\u001b[1;33m\u001b[0m\u001b[1;33m\u001b[0m\u001b[0m\n\u001b[1;32m   1154\u001b[0m                 \u001b[1;31m# appropriate size for the tag\u001b[0m\u001b[1;33m\u001b[0m\u001b[1;33m\u001b[0m\u001b[0m\n\u001b[0;32m-> 1155\u001b[0;31m                 \u001b[0mWriter\u001b[0m \u001b[1;33m=\u001b[0m \u001b[0mwriters\u001b[0m\u001b[1;33m[\u001b[0m\u001b[0mrcParams\u001b[0m\u001b[1;33m[\u001b[0m\u001b[1;34m'animation.writer'\u001b[0m\u001b[1;33m]\u001b[0m\u001b[1;33m]\u001b[0m\u001b[1;33m\u001b[0m\u001b[0m\n\u001b[0m\u001b[1;32m   1156\u001b[0m                 writer = Writer(codec='h264',\n\u001b[1;32m   1157\u001b[0m                                 \u001b[0mbitrate\u001b[0m\u001b[1;33m=\u001b[0m\u001b[0mrcParams\u001b[0m\u001b[1;33m[\u001b[0m\u001b[1;34m'animation.bitrate'\u001b[0m\u001b[1;33m]\u001b[0m\u001b[1;33m,\u001b[0m\u001b[1;33m\u001b[0m\u001b[0m\n",
      "\u001b[0;32mC:\\Users\\Artur_Zahreba\\AppData\\Local\\Continuum\\Anaconda3\\lib\\site-packages\\matplotlib\\animation.py\u001b[0m in \u001b[0;36m__getitem__\u001b[0;34m(self, name)\u001b[0m\n\u001b[1;32m    127\u001b[0m         \u001b[0mself\u001b[0m\u001b[1;33m.\u001b[0m\u001b[0mensure_not_dirty\u001b[0m\u001b[1;33m(\u001b[0m\u001b[1;33m)\u001b[0m\u001b[1;33m\u001b[0m\u001b[0m\n\u001b[1;32m    128\u001b[0m         \u001b[1;32mif\u001b[0m \u001b[1;32mnot\u001b[0m \u001b[0mself\u001b[0m\u001b[1;33m.\u001b[0m\u001b[0mavail\u001b[0m\u001b[1;33m:\u001b[0m\u001b[1;33m\u001b[0m\u001b[0m\n\u001b[0;32m--> 129\u001b[0;31m             \u001b[1;32mraise\u001b[0m \u001b[0mRuntimeError\u001b[0m\u001b[1;33m(\u001b[0m\u001b[1;34m\"No MovieWriters available!\"\u001b[0m\u001b[1;33m)\u001b[0m\u001b[1;33m\u001b[0m\u001b[0m\n\u001b[0m\u001b[1;32m    130\u001b[0m         \u001b[1;32mreturn\u001b[0m \u001b[0mself\u001b[0m\u001b[1;33m.\u001b[0m\u001b[0mavail\u001b[0m\u001b[1;33m[\u001b[0m\u001b[0mname\u001b[0m\u001b[1;33m]\u001b[0m\u001b[1;33m\u001b[0m\u001b[0m\n\u001b[1;32m    131\u001b[0m \u001b[1;33m\u001b[0m\u001b[0m\n",
      "\u001b[0;31mRuntimeError\u001b[0m: No MovieWriters available!"
     ]
    },
    {
     "data": {
      "image/png": "[encoded data removed]",
      "text/plain": [
       "<matplotlib.figure.Figure at 0x23068e71748>"
      ]
     },
     "metadata": {},
     "output_type": "display_data"
    }
   ],
   "source": [
    "with Terrarium(animate=True) as t:\n",
    "    t1 = ShakyTurtle(t,'navy',20)\n",
    "    t2 = PredatorTurtle(t,'coral',10)\n",
    "    \n",
    "    for i in range(200):\n",
    "        t1.forward(1)\n",
    "        t2.follow(t1,0.75)\n",
    "        \n",
    "    t1.point(); t2.point()"
   ]
  },
  {
   "cell_type": "code",
   "execution_count": null,
   "metadata": {
    "collapsed": true
   },
   "outputs": [],
   "source": [
    "def move(turtle,pos):\n",
    "    turtle.pos = pos\n",
    "    \n",
    "Turtle.move = move"
   ]
  },
  {
   "cell_type": "code",
   "execution_count": null,
   "metadata": {
    "collapsed": false
   },
   "outputs": [],
   "source": [
    "with Terrarium(animate=True) as t:\n",
    "    t1 = ShakyTurtle(t,'navy',20)\n",
    "    t2 = PredatorTurtle(t,'coral',10)\n",
    "    \n",
    "    t1.move((75,75))\n",
    "    \n",
    "    for i in range(200):\n",
    "        t1.forward(1)\n",
    "        t2.follow(t1,0.75)\n",
    "        \n",
    "    t1.point(); t2.point()"
   ]
  },
  {
   "cell_type": "code",
   "execution_count": null,
   "metadata": {
    "collapsed": true
   },
   "outputs": [],
   "source": [
    " "
   ]
  },
  {
   "cell_type": "code",
   "execution_count": null,
   "metadata": {
    "collapsed": true
   },
   "outputs": [],
   "source": []
  },
  {
   "cell_type": "code",
   "execution_count": null,
   "metadata": {
    "collapsed": true
   },
   "outputs": [],
   "source": []
  },
  {
   "cell_type": "code",
   "execution_count": null,
   "metadata": {
    "collapsed": true
   },
   "outputs": [],
   "source": []
  },
  {
   "cell_type": "code",
   "execution_count": null,
   "metadata": {
    "collapsed": true
   },
   "outputs": [],
   "source": []
  }
 ],
 "metadata": {
  "anaconda-cloud": {},
  "kernelspec": {
   "display_name": "Python 3",
   "language": "python",
   "name": "python3"
  },
  "language_info": {
   "codemirror_mode": {
    "name": "ipython",
    "version": 3
   },
   "file_extension": ".py",
   "mimetype": "text/x-python",
   "name": "python",
   "nbconvert_exporter": "python",
   "pygments_lexer": "ipython3",
   "version": "3.6.0"
  }
 },
 "nbformat": 4,
 "nbformat_minor": 1
}
