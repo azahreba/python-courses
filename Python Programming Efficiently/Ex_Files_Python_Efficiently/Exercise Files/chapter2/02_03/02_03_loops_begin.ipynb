{
 "cells": [
  {
   "cell_type": "markdown",
   "metadata": {
    "collapsed": true
   },
   "source": [
    "### Python module/package imports for this chapter"
   ]
  },
  {
   "cell_type": "code",
   "execution_count": 1,
   "metadata": {
    "collapsed": true
   },
   "outputs": [],
   "source": [
    "import math, json, collections, itertools"
   ]
  },
  {
   "cell_type": "code",
   "execution_count": 2,
   "metadata": {
    "collapsed": true
   },
   "outputs": [],
   "source": [
    "import numpy as np\n",
    "import matplotlib.pyplot as pp\n",
    "%matplotlib inline"
   ]
  },
  {
   "cell_type": "code",
   "execution_count": 3,
   "metadata": {
    "collapsed": true
   },
   "outputs": [],
   "source": [
    "from mpl_toolkits.basemap import Basemap\n",
    "import geopy"
   ]
  },
  {
   "cell_type": "markdown",
   "metadata": {},
   "source": [
    "## Mastering Python loops"
   ]
  },
  {
   "cell_type": "code",
   "execution_count": 3,
   "metadata": {
    "collapsed": false
   },
   "outputs": [
    {
     "name": "stdout",
     "output_type": "stream",
     "text": [
      "Athens (1896)\n",
      "Paris (1900)\n",
      "St Louis\n",
      "London (1908)\n",
      "Stockholm (1912)\n",
      "Antwerp (1920)\n",
      "Paris (1924)\n",
      "Amsterdam (1928)\n",
      "Los Angeles\n",
      "Berlin (1936)\n",
      "London (1948)\n",
      "Helsinki (1952)\n",
      "Melbourne /\n",
      "Rome (1960)\n",
      "Tokyo (1964)\n",
      "Mexico (1968)\n",
      "Munich (1972)\n",
      "Montreal (1976)\n",
      "Moscow (1980)\n",
      "Los Angeles\n",
      "Seoul (1988)\n",
      "Barcelona (1992)\n",
      "Atlanta (1996)\n",
      "Sydney (2000)\n",
      "Athens (2004)\n",
      "Beijing (2008)\n",
      "London (2012)\n",
      "Rio (2016)\n"
     ]
    }
   ],
   "source": [
    "for game in open('games.txt', 'r'):\n",
    "    city = game.split()[0]\n",
    "    year = game.split()[1]\n",
    "    \n",
    "    print(city, year)"
   ]
  },
  {
   "cell_type": "code",
   "execution_count": null,
   "metadata": {
    "collapsed": true
   },
   "outputs": [],
   "source": []
  }
 ],
 "metadata": {
  "anaconda-cloud": {},
  "kernelspec": {
   "display_name": "Python 3",
   "language": "python",
   "name": "python3"
  },
  "language_info": {
   "codemirror_mode": {
    "name": "ipython",
    "version": 3
   },
   "file_extension": ".py",
   "mimetype": "text/x-python",
   "name": "python",
   "nbconvert_exporter": "python",
   "pygments_lexer": "ipython3",
   "version": "3.6.0"
  }
 },
 "nbformat": 4,
 "nbformat_minor": 1
}
