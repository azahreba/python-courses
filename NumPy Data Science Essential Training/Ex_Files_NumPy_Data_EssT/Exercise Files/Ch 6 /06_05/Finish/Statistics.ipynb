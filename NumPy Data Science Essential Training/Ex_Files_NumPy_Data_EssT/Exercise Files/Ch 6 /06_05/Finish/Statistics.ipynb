{
 "cells": [
  {
   "cell_type": "markdown",
   "metadata": {},
   "source": [
    "# Statistics\n",
    "- import statistical methods\n",
    "- find information about statistical methods\n",
    "- perform rudimentary statistical operations\n",
    "- plot output from statistical operations"
   ]
  },
  {
   "cell_type": "code",
   "execution_count": 1,
   "metadata": {
    "collapsed": true
   },
   "outputs": [],
   "source": [
    "%matplotlib inline\n",
    "import scipy as sp\n",
    "import numpy as np\n",
    "import matplotlib.pyplot as plt\n",
    "\n",
    "from scipy.stats import norm"
   ]
  },
  {
   "cell_type": "markdown",
   "metadata": {},
   "source": [
    "##### sample data set"
   ]
  },
  {
   "cell_type": "code",
   "execution_count": 2,
   "metadata": {},
   "outputs": [
    {
     "data": {
      "text/plain": [
       "numpy.ndarray"
      ]
     },
     "execution_count": 2,
     "metadata": {},
     "output_type": "execute_result"
    }
   ],
   "source": [
    "number_of_data_points = 99\n",
    "random_data_set = sp.randn(number_of_data_points)\n",
    "type(random_data_set)"
   ]
  },
  {
   "cell_type": "markdown",
   "metadata": {},
   "source": [
    "#### descriptive statistics\n",
    "##### mean"
   ]
  },
  {
   "cell_type": "code",
   "execution_count": 3,
   "metadata": {},
   "outputs": [
    {
     "data": {
      "text/plain": [
       "0.014271939980298123"
      ]
     },
     "execution_count": 3,
     "metadata": {},
     "output_type": "execute_result"
    }
   ],
   "source": [
    "random_data_set.mean()"
   ]
  },
  {
   "cell_type": "markdown",
   "metadata": {},
   "source": [
    "##### median"
   ]
  },
  {
   "cell_type": "code",
   "execution_count": 4,
   "metadata": {},
   "outputs": [
    {
     "data": {
      "text/plain": [
       "0.061134282494062032"
      ]
     },
     "execution_count": 4,
     "metadata": {},
     "output_type": "execute_result"
    }
   ],
   "source": [
    "sp.median(random_data_set)"
   ]
  },
  {
   "cell_type": "markdown",
   "metadata": {},
   "source": [
    "##### minimum and maximum"
   ]
  },
  {
   "cell_type": "code",
   "execution_count": 5,
   "metadata": {},
   "outputs": [
    {
     "data": {
      "text/plain": [
       "array([-2.17914415,  2.509293  ])"
      ]
     },
     "execution_count": 5,
     "metadata": {},
     "output_type": "execute_result"
    }
   ],
   "source": [
    "min_max = np.array([random_data_set.min(), random_data_set.max()])\n",
    "min_max"
   ]
  },
  {
   "cell_type": "markdown",
   "metadata": {},
   "source": [
    "##### standard deviation and variance"
   ]
  },
  {
   "cell_type": "code",
   "execution_count": 6,
   "metadata": {},
   "outputs": [
    {
     "data": {
      "text/plain": [
       "array([ 0.94621123,  0.89531569])"
      ]
     },
     "execution_count": 6,
     "metadata": {},
     "output_type": "execute_result"
    }
   ],
   "source": [
    "spread_measures = np.array([sp.std(random_data_set), sp.var(random_data_set)])\n",
    "spread_measures"
   ]
  },
  {
   "cell_type": "code",
   "execution_count": 7,
   "metadata": {},
   "outputs": [
    {
     "data": {
      "text/plain": [
       "DescribeResult(nobs=99, minmax=(-2.1791441543516679, 2.5092930037059751), mean=0.014271939980298123, variance=0.90445156136375615, skewness=0.06513292332277852, kurtosis=-0.23632157231860607)"
      ]
     },
     "execution_count": 7,
     "metadata": {},
     "output_type": "execute_result"
    }
   ],
   "source": [
    "sp.stats.describe(random_data_set)"
   ]
  },
  {
   "cell_type": "markdown",
   "metadata": {},
   "source": [
    "### Probability Distributions\n",
    "- continuous distributions\n",
    "    - Normal: norm\n",
    "    - Chi squared: chi2\n",
    "    - Student's T: t\n",
    "    - Uniform: uniform\n",
    "- discrete distributions\n",
    "    - Poisson: poisson\n",
    "    - Binomial: binomial"
   ]
  },
  {
   "cell_type": "markdown",
   "metadata": {},
   "source": [
    "#### Normal Distribution\n",
    "documentation: http://docs.scipy.org/doc/scipy-0.16.0/reference/generated/scipy.stats.norm.html"
   ]
  },
  {
   "cell_type": "code",
   "execution_count": 8,
   "metadata": {},
   "outputs": [
    {
     "name": "stdout",
     "output_type": "stream",
     "text": [
      " 87.96\n",
      "109.87\n",
      " 86.80\n",
      "108.94\n",
      "103.84\n",
      " 91.10\n",
      "106.31\n",
      " 82.70\n"
     ]
    }
   ],
   "source": [
    "iq_mean = 100\n",
    "iq_std_dev = 15\n",
    "iq_distribution = norm(loc=iq_mean, scale=iq_std_dev)\n",
    "for n in np.arange(8):\n",
    "    print('{:6.2f}'.format(iq_distribution.rvs()))"
   ]
  },
  {
   "cell_type": "markdown",
   "metadata": {},
   "source": [
    "##### probability density function (PDF)\n",
    "\n",
    "For continuous variates, PDF is proportional to the probability of the variate being in a small interval about the input parameter"
   ]
  },
  {
   "cell_type": "code",
   "execution_count": 9,
   "metadata": {},
   "outputs": [
    {
     "name": "stdout",
     "output_type": "stream",
     "text": [
      "  0.02\n"
     ]
    }
   ],
   "source": [
    "iq_pdf = iq_distribution.pdf(110)\n",
    "print('{:6.2f}'.format(iq_pdf))"
   ]
  },
  {
   "cell_type": "markdown",
   "metadata": {},
   "source": [
    "##### cumulative density function (CDF)\n",
    "\n",
    "For continuous variates, CDF gives the probability that the variate has a value less than or equal to the input parameter"
   ]
  },
  {
   "cell_type": "code",
   "execution_count": 10,
   "metadata": {},
   "outputs": [
    {
     "name": "stdout",
     "output_type": "stream",
     "text": [
      "Probability that IQ is below 120 is 0.91; probability above: 0.09\n"
     ]
    }
   ],
   "source": [
    "iq_value = 120\n",
    "iq_below = iq_distribution.cdf (iq_value)\n",
    "iq_above = 1 - iq_below\n",
    "print('Probability that IQ is below{:4d} is {:4.2f}; probability above: {:4.2f}'.format(iq_value, iq_below, iq_above))"
   ]
  },
  {
   "cell_type": "code",
   "execution_count": 11,
   "metadata": {},
   "outputs": [
    {
     "data": {
      "image/png": "[encoded data removed]",
      "text/plain": [
       "<matplotlib.figure.Figure at 0x111fe58d0>"
      ]
     },
     "metadata": {},
     "output_type": "display_data"
    }
   ],
   "source": [
    "mu, sigma = 100, 15\n",
    "data_set = mu + sigma * np.random.randn(10000)\n",
    "\n",
    "# the histogram of the data\n",
    "n, bins, patches = plt.hist(data_set, 50, normed=1, facecolor='g', alpha=0.75)\n",
    "\n",
    "plt.xlabel('IQ Score')\n",
    "plt.ylabel('Probability')\n",
    "plt.title('Histogram of IQ')\n",
    "plt.text(60, .025, r'$\\mu=100,\\ \\sigma=15$')\n",
    "plt.axis([40, 160, 0, 0.03])\n",
    "plt.grid(True)\n",
    "plt.show()"
   ]
  },
  {
   "cell_type": "code",
   "execution_count": null,
   "metadata": {
    "collapsed": true
   },
   "outputs": [],
   "source": []
  }
 ],
 "metadata": {
  "kernelspec": {
   "display_name": "Python 3",
   "language": "python",
   "name": "python3"
  },
  "language_info": {
   "codemirror_mode": {
    "name": "ipython",
    "version": 3
   },
   "file_extension": ".py",
   "mimetype": "text/x-python",
   "name": "python",
   "nbconvert_exporter": "python",
   "pygments_lexer": "ipython3",
   "version": "3.6.1"
  }
 },
 "nbformat": 4,
 "nbformat_minor": 1
}
