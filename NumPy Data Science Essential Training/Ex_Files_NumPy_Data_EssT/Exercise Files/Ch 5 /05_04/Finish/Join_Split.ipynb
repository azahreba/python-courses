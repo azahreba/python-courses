{
 "cells": [
  {
   "cell_type": "markdown",
   "metadata": {},
   "source": [
    "# Joining and Splitting arrays\n",
    "- concatenate\n",
    "- stack\n",
    "- split"
   ]
  },
  {
   "cell_type": "code",
   "execution_count": 18,
   "metadata": {
    "collapsed": true
   },
   "outputs": [],
   "source": [
    "import numpy as np"
   ]
  },
  {
   "cell_type": "markdown",
   "metadata": {},
   "source": [
    "### concatenate\n",
    "documentation: http://docs.scipy.org/doc/numpy/reference/generated/numpy.concatenate.html"
   ]
  },
  {
   "cell_type": "code",
   "execution_count": 19,
   "metadata": {},
   "outputs": [
    {
     "data": {
      "text/plain": [
       "array([[1, 2],\n",
       "       [3, 4]])"
      ]
     },
     "execution_count": 19,
     "metadata": {},
     "output_type": "execute_result"
    }
   ],
   "source": [
    "a = np.array([[1, 2], [3, 4]])\n",
    "b = np.array([[5, 6]])\n",
    "a"
   ]
  },
  {
   "cell_type": "code",
   "execution_count": 20,
   "metadata": {},
   "outputs": [
    {
     "data": {
      "text/plain": [
       "array([[1, 2],\n",
       "       [3, 4],\n",
       "       [5, 6]])"
      ]
     },
     "execution_count": 20,
     "metadata": {},
     "output_type": "execute_result"
    }
   ],
   "source": [
    "together = np.concatenate((a, b), axis=0)\n",
    "together"
   ]
  },
  {
   "cell_type": "code",
   "execution_count": 21,
   "metadata": {},
   "outputs": [
    {
     "data": {
      "text/plain": [
       "(3, 2)"
      ]
     },
     "execution_count": 21,
     "metadata": {},
     "output_type": "execute_result"
    }
   ],
   "source": [
    "together.shape"
   ]
  },
  {
   "cell_type": "code",
   "execution_count": 22,
   "metadata": {},
   "outputs": [
    {
     "data": {
      "text/plain": [
       "array([[  1,   2],\n",
       "       [  3, 555],\n",
       "       [  5,   6]])"
      ]
     },
     "execution_count": 22,
     "metadata": {},
     "output_type": "execute_result"
    }
   ],
   "source": [
    "together[1,1] = 555\n",
    "together"
   ]
  },
  {
   "cell_type": "code",
   "execution_count": 23,
   "metadata": {},
   "outputs": [
    {
     "data": {
      "text/plain": [
       "array([[1, 2],\n",
       "       [3, 4],\n",
       "       [5, 6]])"
      ]
     },
     "execution_count": 23,
     "metadata": {},
     "output_type": "execute_result"
    }
   ],
   "source": [
    "np.append(a,b, axis=0)"
   ]
  },
  {
   "cell_type": "code",
   "execution_count": 25,
   "metadata": {},
   "outputs": [
    {
     "data": {
      "text/plain": [
       "array([[1, 2],\n",
       "       [3, 4]])"
      ]
     },
     "execution_count": 25,
     "metadata": {},
     "output_type": "execute_result"
    }
   ],
   "source": [
    "a"
   ]
  },
  {
   "cell_type": "code",
   "execution_count": 31,
   "metadata": {},
   "outputs": [
    {
     "data": {
      "text/plain": [
       "array([[ 8, 11],\n",
       "       [14, 17]])"
      ]
     },
     "execution_count": 31,
     "metadata": {},
     "output_type": "execute_result"
    }
   ],
   "source": [
    "c = np.array([[1, 2], [3, 4]]) *3 + 5\n",
    "c"
   ]
  },
  {
   "cell_type": "code",
   "execution_count": 32,
   "metadata": {},
   "outputs": [
    {
     "data": {
      "text/plain": [
       "array([[ 1,  2,  8, 11],\n",
       "       [ 3,  4, 14, 17]])"
      ]
     },
     "execution_count": 32,
     "metadata": {},
     "output_type": "execute_result"
    }
   ],
   "source": [
    "np.concatenate((a, c), axis=1)"
   ]
  },
  {
   "cell_type": "code",
   "execution_count": 33,
   "metadata": {},
   "outputs": [
    {
     "data": {
      "text/plain": [
       "array([[ 1,  2,  8, 11],\n",
       "       [ 3,  4, 14, 17]])"
      ]
     },
     "execution_count": 33,
     "metadata": {},
     "output_type": "execute_result"
    }
   ],
   "source": [
    "np.hstack((a,c))"
   ]
  },
  {
   "cell_type": "markdown",
   "metadata": {},
   "source": [
    "### stack"
   ]
  },
  {
   "cell_type": "code",
   "execution_count": 34,
   "metadata": {},
   "outputs": [
    {
     "data": {
      "text/plain": [
       "array([[ 0.80033906,  0.00946912, -1.45239976,  0.41163408],\n",
       "       [ 0.28660823,  0.18285557, -1.35851275, -0.95460554],\n",
       "       [ 0.78435003,  0.22280464,  0.80832053,  0.23418303]])"
      ]
     },
     "execution_count": 34,
     "metadata": {},
     "output_type": "execute_result"
    }
   ],
   "source": [
    "np.random.randn(3, 4)"
   ]
  },
  {
   "cell_type": "code",
   "execution_count": 36,
   "metadata": {},
   "outputs": [
    {
     "data": {
      "text/plain": [
       "array([[[ 0.31813982, -0.90657796, -0.11538679, -0.47445712],\n",
       "        [-1.27806875,  0.18280239, -0.76431446, -0.42765571],\n",
       "        [ 1.21731791, -1.10853736, -1.2165982 , -0.82581026]],\n",
       "\n",
       "       [[-1.06251745,  0.79967149,  0.68371797,  0.20693526],\n",
       "        [-0.04835136, -1.55296988, -0.31058398, -0.80098326],\n",
       "        [ 1.50220642,  0.885221  ,  0.15798413,  0.85739   ]],\n",
       "\n",
       "       [[-0.05618243, -0.51180351,  0.39332049,  0.64590556],\n",
       "        [ 0.95621764, -1.05582974,  0.62120108,  1.47954256],\n",
       "        [ 1.49438994,  0.35722555,  0.91419513, -0.11951521]],\n",
       "\n",
       "       [[-0.50108481,  1.59265742,  0.71273564,  0.58722891],\n",
       "        [-0.01369541, -1.58004573, -1.08667185,  2.11962448],\n",
       "        [-0.09743789,  0.29439595, -0.50774845,  1.40605386]],\n",
       "\n",
       "       [[ 1.90096313, -0.73491729,  0.81576807,  0.60997547],\n",
       "        [ 0.48196876, -0.19906053,  2.14726489, -0.11417081],\n",
       "        [-1.37571448, -0.42492804,  0.15373676,  1.07237163]]])"
      ]
     },
     "execution_count": 36,
     "metadata": {},
     "output_type": "execute_result"
    }
   ],
   "source": [
    "arrays = np.zeros((5,3,4))\n",
    "for n in range(5):\n",
    "    arrays[n] = np.random.randn(3, 4)\n",
    "    \n",
    "arrays"
   ]
  },
  {
   "cell_type": "code",
   "execution_count": 37,
   "metadata": {},
   "outputs": [],
   "source": [
    "stack0 = np.stack(arrays, axis=0)\n",
    "stack1 = np.stack(arrays, axis=1)\n",
    "stack2 = np.stack(arrays, axis=2)"
   ]
  },
  {
   "cell_type": "code",
   "execution_count": 38,
   "metadata": {},
   "outputs": [
    {
     "data": {
      "text/plain": [
       "array([[5, 3, 4],\n",
       "       [3, 5, 4],\n",
       "       [3, 4, 5]])"
      ]
     },
     "execution_count": 38,
     "metadata": {},
     "output_type": "execute_result"
    }
   ],
   "source": [
    "my_stacks = np.array([stack0.shape, stack1.shape, stack2.shape])\n",
    "my_stacks"
   ]
  },
  {
   "cell_type": "code",
   "execution_count": 39,
   "metadata": {},
   "outputs": [
    {
     "data": {
      "text/plain": [
       "array([[[ 0.31813982, -0.90657796, -0.11538679, -0.47445712],\n",
       "        [-1.27806875,  0.18280239, -0.76431446, -0.42765571],\n",
       "        [ 1.21731791, -1.10853736, -1.2165982 , -0.82581026]],\n",
       "\n",
       "       [[-1.06251745,  0.79967149,  0.68371797,  0.20693526],\n",
       "        [-0.04835136, -1.55296988, -0.31058398, -0.80098326],\n",
       "        [ 1.50220642,  0.885221  ,  0.15798413,  0.85739   ]],\n",
       "\n",
       "       [[-0.05618243, -0.51180351,  0.39332049,  0.64590556],\n",
       "        [ 0.95621764, -1.05582974,  0.62120108,  1.47954256],\n",
       "        [ 1.49438994,  0.35722555,  0.91419513, -0.11951521]],\n",
       "\n",
       "       [[-0.50108481,  1.59265742,  0.71273564,  0.58722891],\n",
       "        [-0.01369541, -1.58004573, -1.08667185,  2.11962448],\n",
       "        [-0.09743789,  0.29439595, -0.50774845,  1.40605386]],\n",
       "\n",
       "       [[ 1.90096313, -0.73491729,  0.81576807,  0.60997547],\n",
       "        [ 0.48196876, -0.19906053,  2.14726489, -0.11417081],\n",
       "        [-1.37571448, -0.42492804,  0.15373676,  1.07237163]]])"
      ]
     },
     "execution_count": 39,
     "metadata": {},
     "output_type": "execute_result"
    }
   ],
   "source": [
    "stack0"
   ]
  },
  {
   "cell_type": "code",
   "execution_count": 40,
   "metadata": {},
   "outputs": [
    {
     "data": {
      "text/plain": [
       "array([[[ 0.31813982, -0.90657796, -0.11538679, -0.47445712],\n",
       "        [-1.06251745,  0.79967149,  0.68371797,  0.20693526],\n",
       "        [-0.05618243, -0.51180351,  0.39332049,  0.64590556],\n",
       "        [-0.50108481,  1.59265742,  0.71273564,  0.58722891],\n",
       "        [ 1.90096313, -0.73491729,  0.81576807,  0.60997547]],\n",
       "\n",
       "       [[-1.27806875,  0.18280239, -0.76431446, -0.42765571],\n",
       "        [-0.04835136, -1.55296988, -0.31058398, -0.80098326],\n",
       "        [ 0.95621764, -1.05582974,  0.62120108,  1.47954256],\n",
       "        [-0.01369541, -1.58004573, -1.08667185,  2.11962448],\n",
       "        [ 0.48196876, -0.19906053,  2.14726489, -0.11417081]],\n",
       "\n",
       "       [[ 1.21731791, -1.10853736, -1.2165982 , -0.82581026],\n",
       "        [ 1.50220642,  0.885221  ,  0.15798413,  0.85739   ],\n",
       "        [ 1.49438994,  0.35722555,  0.91419513, -0.11951521],\n",
       "        [-0.09743789,  0.29439595, -0.50774845,  1.40605386],\n",
       "        [-1.37571448, -0.42492804,  0.15373676,  1.07237163]]])"
      ]
     },
     "execution_count": 40,
     "metadata": {},
     "output_type": "execute_result"
    }
   ],
   "source": [
    "stack1"
   ]
  },
  {
   "cell_type": "code",
   "execution_count": 41,
   "metadata": {},
   "outputs": [
    {
     "data": {
      "text/plain": [
       "array([[[ 0.31813982, -1.06251745, -0.05618243, -0.50108481,  1.90096313],\n",
       "        [-0.90657796,  0.79967149, -0.51180351,  1.59265742, -0.73491729],\n",
       "        [-0.11538679,  0.68371797,  0.39332049,  0.71273564,  0.81576807],\n",
       "        [-0.47445712,  0.20693526,  0.64590556,  0.58722891,  0.60997547]],\n",
       "\n",
       "       [[-1.27806875, -0.04835136,  0.95621764, -0.01369541,  0.48196876],\n",
       "        [ 0.18280239, -1.55296988, -1.05582974, -1.58004573, -0.19906053],\n",
       "        [-0.76431446, -0.31058398,  0.62120108, -1.08667185,  2.14726489],\n",
       "        [-0.42765571, -0.80098326,  1.47954256,  2.11962448, -0.11417081]],\n",
       "\n",
       "       [[ 1.21731791,  1.50220642,  1.49438994, -0.09743789, -1.37571448],\n",
       "        [-1.10853736,  0.885221  ,  0.35722555,  0.29439595, -0.42492804],\n",
       "        [-1.2165982 ,  0.15798413,  0.91419513, -0.50774845,  0.15373676],\n",
       "        [-0.82581026,  0.85739   , -0.11951521,  1.40605386,  1.07237163]]])"
      ]
     },
     "execution_count": 41,
     "metadata": {},
     "output_type": "execute_result"
    }
   ],
   "source": [
    "stack2"
   ]
  },
  {
   "cell_type": "markdown",
   "metadata": {},
   "source": [
    "### split\n",
    "for information, please see: http://docs.scipy.org/doc/numpy/reference/generated/numpy.split.html"
   ]
  },
  {
   "cell_type": "code",
   "execution_count": 42,
   "metadata": {},
   "outputs": [
    {
     "data": {
      "text/plain": [
       "[array([0, 1, 2, 3, 4])]"
      ]
     },
     "execution_count": 42,
     "metadata": {},
     "output_type": "execute_result"
    }
   ],
   "source": [
    "temp = np.arange(5)\n",
    "np.split(temp,1)"
   ]
  },
  {
   "cell_type": "code",
   "execution_count": 43,
   "metadata": {},
   "outputs": [
    {
     "data": {
      "text/plain": [
       "(5, 3, 4)"
      ]
     },
     "execution_count": 43,
     "metadata": {},
     "output_type": "execute_result"
    }
   ],
   "source": [
    "before_split = stack0\n",
    "before_split.shape"
   ]
  },
  {
   "cell_type": "code",
   "execution_count": 44,
   "metadata": {},
   "outputs": [
    {
     "data": {
      "text/plain": [
       "[array([[[ 0.31813982, -0.90657796, -0.11538679, -0.47445712],\n",
       "         [-1.27806875,  0.18280239, -0.76431446, -0.42765571],\n",
       "         [ 1.21731791, -1.10853736, -1.2165982 , -0.82581026]]]),\n",
       " array([[[-1.06251745,  0.79967149,  0.68371797,  0.20693526],\n",
       "         [-0.04835136, -1.55296988, -0.31058398, -0.80098326],\n",
       "         [ 1.50220642,  0.885221  ,  0.15798413,  0.85739   ]]]),\n",
       " array([[[-0.05618243, -0.51180351,  0.39332049,  0.64590556],\n",
       "         [ 0.95621764, -1.05582974,  0.62120108,  1.47954256],\n",
       "         [ 1.49438994,  0.35722555,  0.91419513, -0.11951521]]]),\n",
       " array([[[-0.50108481,  1.59265742,  0.71273564,  0.58722891],\n",
       "         [-0.01369541, -1.58004573, -1.08667185,  2.11962448],\n",
       "         [-0.09743789,  0.29439595, -0.50774845,  1.40605386]]]),\n",
       " array([[[ 1.90096313, -0.73491729,  0.81576807,  0.60997547],\n",
       "         [ 0.48196876, -0.19906053,  2.14726489, -0.11417081],\n",
       "         [-1.37571448, -0.42492804,  0.15373676,  1.07237163]]])]"
      ]
     },
     "execution_count": 44,
     "metadata": {},
     "output_type": "execute_result"
    }
   ],
   "source": [
    "s0=np.split (before_split, 5, axis=0)\n",
    "s0"
   ]
  },
  {
   "cell_type": "code",
   "execution_count": null,
   "metadata": {},
   "outputs": [],
   "source": [
    "type(s0)"
   ]
  },
  {
   "cell_type": "code",
   "execution_count": null,
   "metadata": {},
   "outputs": [],
   "source": [
    "s0[1]"
   ]
  },
  {
   "cell_type": "code",
   "execution_count": null,
   "metadata": {},
   "outputs": [],
   "source": [
    "s0[1].shape"
   ]
  },
  {
   "cell_type": "code",
   "execution_count": null,
   "metadata": {},
   "outputs": [],
   "source": [
    "s1=np.split (before_split, 3, axis=1)\n",
    "s1"
   ]
  },
  {
   "cell_type": "code",
   "execution_count": null,
   "metadata": {},
   "outputs": [],
   "source": [
    "s2=np.split (before_split, 4, axis=2)\n",
    "s2"
   ]
  }
 ],
 "metadata": {
  "anaconda-cloud": {},
  "kernelspec": {
   "display_name": "Python 3",
   "language": "python",
   "name": "python3"
  },
  "language_info": {
   "codemirror_mode": {
    "name": "ipython",
    "version": 3
   },
   "file_extension": ".py",
   "mimetype": "text/x-python",
   "name": "python",
   "nbconvert_exporter": "python",
   "pygments_lexer": "ipython3",
   "version": "3.6.1"
  }
 },
 "nbformat": 4,
 "nbformat_minor": 1
}
